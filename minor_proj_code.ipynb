{
 "cells": [
  {
   "cell_type": "code",
   "execution_count": 1,
   "metadata": {},
   "outputs": [
    {
     "name": "stderr",
     "output_type": "stream",
     "text": [
      "E:\\Anaconda\\lib\\site-packages\\sklearn\\externals\\joblib\\__init__.py:15: DeprecationWarning: sklearn.externals.joblib is deprecated in 0.21 and will be removed in 0.23. Please import this functionality directly from joblib, which can be installed with: pip install joblib. If this warning is raised when loading pickled models, you may need to re-serialize those models with scikit-learn 0.21+.\n",
      "  warnings.warn(msg, category=DeprecationWarning)\n"
     ]
    }
   ],
   "source": [
    "# main libraries\n",
    "import pandas as pd\n",
    "import numpy as np\n",
    "\n",
    "# visual libraries\n",
    "from matplotlib import pyplot as plt\n",
    "import seaborn as sns\n",
    "plt.style.use('ggplot')\n",
    "\n",
    "# sklearn libraries\n",
    "from sklearn.neighbors import KNeighborsClassifier\n",
    "from sklearn.model_selection import train_test_split\n",
    "from sklearn.preprocessing import normalize\n",
    "from sklearn.metrics import confusion_matrix,accuracy_score,precision_score,recall_score,f1_score,matthews_corrcoef,classification_report,roc_curve\n",
    "from sklearn.externals import joblib\n",
    "from sklearn.preprocessing import StandardScaler\n",
    "\n",
    "import warnings\n",
    "warnings.filterwarnings('ignore')\n",
    "warnings.simplefilter('ignore')\n"
   ]
  },
  {
   "cell_type": "markdown",
   "metadata": {},
   "source": [
    "# Data Exploration and Pre-Processing"
   ]
  },
  {
   "cell_type": "code",
   "execution_count": 2,
   "metadata": {},
   "outputs": [
    {
     "data": {
      "text/html": [
       "<div>\n",
       "<style scoped>\n",
       "    .dataframe tbody tr th:only-of-type {\n",
       "        vertical-align: middle;\n",
       "    }\n",
       "\n",
       "    .dataframe tbody tr th {\n",
       "        vertical-align: top;\n",
       "    }\n",
       "\n",
       "    .dataframe thead th {\n",
       "        text-align: right;\n",
       "    }\n",
       "</style>\n",
       "<table border=\"1\" class=\"dataframe\">\n",
       "  <thead>\n",
       "    <tr style=\"text-align: right;\">\n",
       "      <th></th>\n",
       "      <th>Unnamed</th>\n",
       "      <th>X1</th>\n",
       "      <th>X2</th>\n",
       "      <th>X3</th>\n",
       "      <th>X4</th>\n",
       "      <th>X5</th>\n",
       "      <th>X6</th>\n",
       "      <th>X7</th>\n",
       "      <th>X8</th>\n",
       "      <th>X9</th>\n",
       "      <th>...</th>\n",
       "      <th>X170</th>\n",
       "      <th>X171</th>\n",
       "      <th>X172</th>\n",
       "      <th>X173</th>\n",
       "      <th>X174</th>\n",
       "      <th>X175</th>\n",
       "      <th>X176</th>\n",
       "      <th>X177</th>\n",
       "      <th>X178</th>\n",
       "      <th>y</th>\n",
       "    </tr>\n",
       "  </thead>\n",
       "  <tbody>\n",
       "    <tr>\n",
       "      <td>0</td>\n",
       "      <td>X21.V1.791</td>\n",
       "      <td>135</td>\n",
       "      <td>190</td>\n",
       "      <td>229</td>\n",
       "      <td>223</td>\n",
       "      <td>192</td>\n",
       "      <td>125</td>\n",
       "      <td>55</td>\n",
       "      <td>-9</td>\n",
       "      <td>-33</td>\n",
       "      <td>...</td>\n",
       "      <td>-17</td>\n",
       "      <td>-15</td>\n",
       "      <td>-31</td>\n",
       "      <td>-77</td>\n",
       "      <td>-103</td>\n",
       "      <td>-127</td>\n",
       "      <td>-116</td>\n",
       "      <td>-83</td>\n",
       "      <td>-51</td>\n",
       "      <td>4</td>\n",
       "    </tr>\n",
       "    <tr>\n",
       "      <td>1</td>\n",
       "      <td>X15.V1.924</td>\n",
       "      <td>386</td>\n",
       "      <td>382</td>\n",
       "      <td>356</td>\n",
       "      <td>331</td>\n",
       "      <td>320</td>\n",
       "      <td>315</td>\n",
       "      <td>307</td>\n",
       "      <td>272</td>\n",
       "      <td>244</td>\n",
       "      <td>...</td>\n",
       "      <td>164</td>\n",
       "      <td>150</td>\n",
       "      <td>146</td>\n",
       "      <td>152</td>\n",
       "      <td>157</td>\n",
       "      <td>156</td>\n",
       "      <td>154</td>\n",
       "      <td>143</td>\n",
       "      <td>129</td>\n",
       "      <td>1</td>\n",
       "    </tr>\n",
       "    <tr>\n",
       "      <td>2</td>\n",
       "      <td>X8.V1.1</td>\n",
       "      <td>-32</td>\n",
       "      <td>-39</td>\n",
       "      <td>-47</td>\n",
       "      <td>-37</td>\n",
       "      <td>-32</td>\n",
       "      <td>-36</td>\n",
       "      <td>-57</td>\n",
       "      <td>-73</td>\n",
       "      <td>-85</td>\n",
       "      <td>...</td>\n",
       "      <td>57</td>\n",
       "      <td>64</td>\n",
       "      <td>48</td>\n",
       "      <td>19</td>\n",
       "      <td>-12</td>\n",
       "      <td>-30</td>\n",
       "      <td>-35</td>\n",
       "      <td>-35</td>\n",
       "      <td>-36</td>\n",
       "      <td>5</td>\n",
       "    </tr>\n",
       "    <tr>\n",
       "      <td>3</td>\n",
       "      <td>X16.V1.60</td>\n",
       "      <td>-105</td>\n",
       "      <td>-101</td>\n",
       "      <td>-96</td>\n",
       "      <td>-92</td>\n",
       "      <td>-89</td>\n",
       "      <td>-95</td>\n",
       "      <td>-102</td>\n",
       "      <td>-100</td>\n",
       "      <td>-87</td>\n",
       "      <td>...</td>\n",
       "      <td>-82</td>\n",
       "      <td>-81</td>\n",
       "      <td>-80</td>\n",
       "      <td>-77</td>\n",
       "      <td>-85</td>\n",
       "      <td>-77</td>\n",
       "      <td>-72</td>\n",
       "      <td>-69</td>\n",
       "      <td>-65</td>\n",
       "      <td>5</td>\n",
       "    </tr>\n",
       "    <tr>\n",
       "      <td>4</td>\n",
       "      <td>X20.V1.54</td>\n",
       "      <td>-9</td>\n",
       "      <td>-65</td>\n",
       "      <td>-98</td>\n",
       "      <td>-102</td>\n",
       "      <td>-78</td>\n",
       "      <td>-48</td>\n",
       "      <td>-16</td>\n",
       "      <td>0</td>\n",
       "      <td>-21</td>\n",
       "      <td>...</td>\n",
       "      <td>4</td>\n",
       "      <td>2</td>\n",
       "      <td>-12</td>\n",
       "      <td>-32</td>\n",
       "      <td>-41</td>\n",
       "      <td>-65</td>\n",
       "      <td>-83</td>\n",
       "      <td>-89</td>\n",
       "      <td>-73</td>\n",
       "      <td>5</td>\n",
       "    </tr>\n",
       "  </tbody>\n",
       "</table>\n",
       "<p>5 rows × 180 columns</p>\n",
       "</div>"
      ],
      "text/plain": [
       "      Unnamed   X1   X2   X3   X4   X5   X6   X7   X8   X9  ...  X170  X171  \\\n",
       "0  X21.V1.791  135  190  229  223  192  125   55   -9  -33  ...   -17   -15   \n",
       "1  X15.V1.924  386  382  356  331  320  315  307  272  244  ...   164   150   \n",
       "2     X8.V1.1  -32  -39  -47  -37  -32  -36  -57  -73  -85  ...    57    64   \n",
       "3   X16.V1.60 -105 -101  -96  -92  -89  -95 -102 -100  -87  ...   -82   -81   \n",
       "4   X20.V1.54   -9  -65  -98 -102  -78  -48  -16    0  -21  ...     4     2   \n",
       "\n",
       "   X172  X173  X174  X175  X176  X177  X178  y  \n",
       "0   -31   -77  -103  -127  -116   -83   -51  4  \n",
       "1   146   152   157   156   154   143   129  1  \n",
       "2    48    19   -12   -30   -35   -35   -36  5  \n",
       "3   -80   -77   -85   -77   -72   -69   -65  5  \n",
       "4   -12   -32   -41   -65   -83   -89   -73  5  \n",
       "\n",
       "[5 rows x 180 columns]"
      ]
     },
     "execution_count": 2,
     "metadata": {},
     "output_type": "execute_result"
    }
   ],
   "source": [
    "df = pd.read_csv(\"D:\\Important\\Minor Project\\Epileptic Seizure Recognition.csv\")\n",
    "df.head()"
   ]
  },
  {
   "cell_type": "code",
   "execution_count": 3,
   "metadata": {},
   "outputs": [],
   "source": [
    "#df.shape"
   ]
  },
  {
   "cell_type": "code",
   "execution_count": 4,
   "metadata": {},
   "outputs": [
    {
     "data": {
      "text/plain": [
       "False"
      ]
     },
     "execution_count": 4,
     "metadata": {},
     "output_type": "execute_result"
    }
   ],
   "source": [
    "#Check if there are any missing values\n",
    "df.isnull().values.any()"
   ]
  },
  {
   "cell_type": "code",
   "execution_count": 5,
   "metadata": {},
   "outputs": [
    {
     "data": {
      "text/html": [
       "<div>\n",
       "<style scoped>\n",
       "    .dataframe tbody tr th:only-of-type {\n",
       "        vertical-align: middle;\n",
       "    }\n",
       "\n",
       "    .dataframe tbody tr th {\n",
       "        vertical-align: top;\n",
       "    }\n",
       "\n",
       "    .dataframe thead th {\n",
       "        text-align: right;\n",
       "    }\n",
       "</style>\n",
       "<table border=\"1\" class=\"dataframe\">\n",
       "  <thead>\n",
       "    <tr style=\"text-align: right;\">\n",
       "      <th></th>\n",
       "      <th>X1</th>\n",
       "      <th>X2</th>\n",
       "      <th>X3</th>\n",
       "      <th>X4</th>\n",
       "      <th>X5</th>\n",
       "      <th>X6</th>\n",
       "      <th>X7</th>\n",
       "      <th>X8</th>\n",
       "      <th>X9</th>\n",
       "      <th>X10</th>\n",
       "      <th>...</th>\n",
       "      <th>X170</th>\n",
       "      <th>X171</th>\n",
       "      <th>X172</th>\n",
       "      <th>X173</th>\n",
       "      <th>X174</th>\n",
       "      <th>X175</th>\n",
       "      <th>X176</th>\n",
       "      <th>X177</th>\n",
       "      <th>X178</th>\n",
       "      <th>SEIZURE_OUTPUT</th>\n",
       "    </tr>\n",
       "  </thead>\n",
       "  <tbody>\n",
       "    <tr>\n",
       "      <td>0</td>\n",
       "      <td>135</td>\n",
       "      <td>190</td>\n",
       "      <td>229</td>\n",
       "      <td>223</td>\n",
       "      <td>192</td>\n",
       "      <td>125</td>\n",
       "      <td>55</td>\n",
       "      <td>-9</td>\n",
       "      <td>-33</td>\n",
       "      <td>-38</td>\n",
       "      <td>...</td>\n",
       "      <td>-17</td>\n",
       "      <td>-15</td>\n",
       "      <td>-31</td>\n",
       "      <td>-77</td>\n",
       "      <td>-103</td>\n",
       "      <td>-127</td>\n",
       "      <td>-116</td>\n",
       "      <td>-83</td>\n",
       "      <td>-51</td>\n",
       "      <td>0</td>\n",
       "    </tr>\n",
       "    <tr>\n",
       "      <td>1</td>\n",
       "      <td>386</td>\n",
       "      <td>382</td>\n",
       "      <td>356</td>\n",
       "      <td>331</td>\n",
       "      <td>320</td>\n",
       "      <td>315</td>\n",
       "      <td>307</td>\n",
       "      <td>272</td>\n",
       "      <td>244</td>\n",
       "      <td>232</td>\n",
       "      <td>...</td>\n",
       "      <td>164</td>\n",
       "      <td>150</td>\n",
       "      <td>146</td>\n",
       "      <td>152</td>\n",
       "      <td>157</td>\n",
       "      <td>156</td>\n",
       "      <td>154</td>\n",
       "      <td>143</td>\n",
       "      <td>129</td>\n",
       "      <td>1</td>\n",
       "    </tr>\n",
       "    <tr>\n",
       "      <td>2</td>\n",
       "      <td>-32</td>\n",
       "      <td>-39</td>\n",
       "      <td>-47</td>\n",
       "      <td>-37</td>\n",
       "      <td>-32</td>\n",
       "      <td>-36</td>\n",
       "      <td>-57</td>\n",
       "      <td>-73</td>\n",
       "      <td>-85</td>\n",
       "      <td>-94</td>\n",
       "      <td>...</td>\n",
       "      <td>57</td>\n",
       "      <td>64</td>\n",
       "      <td>48</td>\n",
       "      <td>19</td>\n",
       "      <td>-12</td>\n",
       "      <td>-30</td>\n",
       "      <td>-35</td>\n",
       "      <td>-35</td>\n",
       "      <td>-36</td>\n",
       "      <td>0</td>\n",
       "    </tr>\n",
       "    <tr>\n",
       "      <td>3</td>\n",
       "      <td>-105</td>\n",
       "      <td>-101</td>\n",
       "      <td>-96</td>\n",
       "      <td>-92</td>\n",
       "      <td>-89</td>\n",
       "      <td>-95</td>\n",
       "      <td>-102</td>\n",
       "      <td>-100</td>\n",
       "      <td>-87</td>\n",
       "      <td>-79</td>\n",
       "      <td>...</td>\n",
       "      <td>-82</td>\n",
       "      <td>-81</td>\n",
       "      <td>-80</td>\n",
       "      <td>-77</td>\n",
       "      <td>-85</td>\n",
       "      <td>-77</td>\n",
       "      <td>-72</td>\n",
       "      <td>-69</td>\n",
       "      <td>-65</td>\n",
       "      <td>0</td>\n",
       "    </tr>\n",
       "    <tr>\n",
       "      <td>4</td>\n",
       "      <td>-9</td>\n",
       "      <td>-65</td>\n",
       "      <td>-98</td>\n",
       "      <td>-102</td>\n",
       "      <td>-78</td>\n",
       "      <td>-48</td>\n",
       "      <td>-16</td>\n",
       "      <td>0</td>\n",
       "      <td>-21</td>\n",
       "      <td>-59</td>\n",
       "      <td>...</td>\n",
       "      <td>4</td>\n",
       "      <td>2</td>\n",
       "      <td>-12</td>\n",
       "      <td>-32</td>\n",
       "      <td>-41</td>\n",
       "      <td>-65</td>\n",
       "      <td>-83</td>\n",
       "      <td>-89</td>\n",
       "      <td>-73</td>\n",
       "      <td>0</td>\n",
       "    </tr>\n",
       "  </tbody>\n",
       "</table>\n",
       "<p>5 rows × 179 columns</p>\n",
       "</div>"
      ],
      "text/plain": [
       "    X1   X2   X3   X4   X5   X6   X7   X8   X9  X10  ...  X170  X171  X172  \\\n",
       "0  135  190  229  223  192  125   55   -9  -33  -38  ...   -17   -15   -31   \n",
       "1  386  382  356  331  320  315  307  272  244  232  ...   164   150   146   \n",
       "2  -32  -39  -47  -37  -32  -36  -57  -73  -85  -94  ...    57    64    48   \n",
       "3 -105 -101  -96  -92  -89  -95 -102 -100  -87  -79  ...   -82   -81   -80   \n",
       "4   -9  -65  -98 -102  -78  -48  -16    0  -21  -59  ...     4     2   -12   \n",
       "\n",
       "   X173  X174  X175  X176  X177  X178  SEIZURE_OUTPUT  \n",
       "0   -77  -103  -127  -116   -83   -51               0  \n",
       "1   152   157   156   154   143   129               1  \n",
       "2    19   -12   -30   -35   -35   -36               0  \n",
       "3   -77   -85   -77   -72   -69   -65               0  \n",
       "4   -32   -41   -65   -83   -89   -73               0  \n",
       "\n",
       "[5 rows x 179 columns]"
      ]
     },
     "execution_count": 5,
     "metadata": {},
     "output_type": "execute_result"
    }
   ],
   "source": [
    "#Creating new column \"SEIZURE_OUTPUT\" that shows 1 for seizure and 0 for non Seizure activity\n",
    "df[\"SEIZURE_OUTPUT\"] = df.y == 1\n",
    "df[\"SEIZURE_OUTPUT\"] = df[\"SEIZURE_OUTPUT\"].astype(int)\n",
    "df.pop('y')\n",
    "df.drop(df.columns[0], axis=1, inplace=True)\n",
    "df.head()"
   ]
  },
  {
   "cell_type": "code",
   "execution_count": 6,
   "metadata": {},
   "outputs": [
    {
     "name": "stdout",
     "output_type": "stream",
     "text": [
      "prevalence_rate of the dataset: 0.200\n"
     ]
    }
   ],
   "source": [
    "#This function calculates the prevalence of the positive class (label = 1)\n",
    "#Prevalence_rate is the proportion of seizure cases in the whole dataset\n",
    "def calc_prevalence(y_actual):\n",
    "    \n",
    "    return sum(y_actual) / len(y_actual)\n",
    "\n",
    "\n",
    "print(\n",
    "    \"prevalence_rate of the dataset: %.3f\"\n",
    "    % calc_prevalence(df[\"SEIZURE_OUTPUT\"].values)\n",
    ")"
   ]
  },
  {
   "cell_type": "markdown",
   "metadata": {},
   "source": [
    "# Feature Engineering"
   ]
  },
  {
   "cell_type": "code",
   "execution_count": 7,
   "metadata": {},
   "outputs": [],
   "source": [
    "#Creating a new dataframe which has only the columns of interest from our original dataset. \n",
    "#This is done so that building our testing, validation and training data sets becomes easier.\n",
    "\n",
    "collist = df.columns.tolist()\n",
    "cols_input = collist[0:178]\n",
    "df2 = df[cols_input + [\"SEIZURE_OUTPUT\"]]"
   ]
  },
  {
   "cell_type": "code",
   "execution_count": 8,
   "metadata": {},
   "outputs": [
    {
     "name": "stdout",
     "output_type": "stream",
     "text": [
      "set()\n"
     ]
    }
   ],
   "source": [
    "#Check for duplicated columns in cols_input\n",
    "dup_cols = set([x for x in cols_input if cols_input.count(x) > 1])\n",
    "print(dup_cols)\n",
    "assert len(dup_cols) == 0, \"you have duplicated columns in cols_input\""
   ]
  },
  {
   "cell_type": "code",
   "execution_count": 9,
   "metadata": {},
   "outputs": [
    {
     "name": "stdout",
     "output_type": "stream",
     "text": [
      "set()\n"
     ]
    }
   ],
   "source": [
    "#Check for duplicated columns in df2\n",
    "cols_df_data = list(df2.columns)\n",
    "dup_cols = set([x for x in cols_df_data if cols_df_data.count(x) > 1])\n",
    "print(dup_cols)\n",
    "assert len(dup_cols) == 0,'you have duplicated columns in df2'"
   ]
  },
  {
   "cell_type": "code",
   "execution_count": 10,
   "metadata": {},
   "outputs": [],
   "source": [
    "#Check the size of df_data makes sense\n",
    "assert (len(cols_input) + 1) == len(\n",
    "    df2.columns\n",
    "), \"issue with dimensions of df2 or cols_input\""
   ]
  },
  {
   "cell_type": "markdown",
   "metadata": {},
   "source": [
    "# Building Training/Validation/Testing sets"
   ]
  },
  {
   "cell_type": "code",
   "execution_count": 11,
   "metadata": {},
   "outputs": [],
   "source": [
    "#Now we begin spiltting up our dataset into training, validation and testing data sets. \n",
    "#The training split is used to train our machine learning algorithm, hence why we would want to use the majority of our dataset.\n",
    "#The validation dataset is use to tune hyperparameters and to select the best performing approach. \n",
    "#The testing dataset is used to test the accuracy of our machine learning model."
   ]
  },
  {
   "cell_type": "code",
   "execution_count": 12,
   "metadata": {},
   "outputs": [],
   "source": [
    "#Shuffle our dataset to make sure that there isn’t some order associated with our samples.\n",
    "df2 = df2.sample(n=len(df2))\n",
    "df2 = df2.reset_index(drop=True)"
   ]
  },
  {
   "cell_type": "code",
   "execution_count": 13,
   "metadata": {},
   "outputs": [],
   "source": [
    "#df2.shape"
   ]
  },
  {
   "cell_type": "code",
   "execution_count": 14,
   "metadata": {},
   "outputs": [
    {
     "name": "stdout",
     "output_type": "stream",
     "text": [
      "Validation/Test Split Size: 0.3\n"
     ]
    }
   ],
   "source": [
    "#Taking training/validation/test data sets in 70/15/15 ratio\n",
    "df_valid_test = df2.sample(frac=0.3)           #Contains 30% sample of df2\n",
    "print(\"Validation/Test Split Size: %.1f\" % (len(df_valid_test) / len(df2)))\n",
    "\n",
    "df_test = df_valid_test.sample(frac=0.5)       #Test dataset contains 50% sample of valid_test \n",
    "df_valid = df_valid_test.drop(df_test.index)   \n",
    "\n",
    "df_train_all = df2.drop(df_valid_test.index)"
   ]
  },
  {
   "cell_type": "code",
   "execution_count": 15,
   "metadata": {},
   "outputs": [
    {
     "data": {
      "text/plain": [
       "(3451, 179)"
      ]
     },
     "execution_count": 15,
     "metadata": {},
     "output_type": "execute_result"
    }
   ],
   "source": [
    "df_valid_test.shape"
   ]
  },
  {
   "cell_type": "code",
   "execution_count": 16,
   "metadata": {},
   "outputs": [
    {
     "data": {
      "text/plain": [
       "(1725, 179)"
      ]
     },
     "execution_count": 16,
     "metadata": {},
     "output_type": "execute_result"
    }
   ],
   "source": [
    "df_valid.shape"
   ]
  },
  {
   "cell_type": "code",
   "execution_count": 17,
   "metadata": {},
   "outputs": [
    {
     "data": {
      "text/plain": [
       "(1726, 179)"
      ]
     },
     "execution_count": 17,
     "metadata": {},
     "output_type": "execute_result"
    }
   ],
   "source": [
    "df_test.shape"
   ]
  },
  {
   "cell_type": "code",
   "execution_count": 18,
   "metadata": {},
   "outputs": [
    {
     "data": {
      "text/plain": [
       "(8052, 179)"
      ]
     },
     "execution_count": 18,
     "metadata": {},
     "output_type": "execute_result"
    }
   ],
   "source": [
    "df_train_all.shape"
   ]
  },
  {
   "cell_type": "code",
   "execution_count": 19,
   "metadata": {},
   "outputs": [
    {
     "name": "stdout",
     "output_type": "stream",
     "text": [
      "Test prevalence_rate(n = 1726):0.211\n",
      "Valid prevalence_rate(n = 1725):0.210\n",
      "Train all prevalence_rate(n = 8052):0.196\n"
     ]
    }
   ],
   "source": [
    "#Check the prevalence_rate of each data set.\n",
    "#If prevalence_rate of all 3 datasets is approximately the same, then that means that the data is evenly distributed. \n",
    "print(\n",
    "    \"Test prevalence_rate(n = %d):%.3f\"\n",
    "    % (len(df_test), calc_prevalence(df_test.SEIZURE_OUTPUT.values))\n",
    ")\n",
    "print(\n",
    "    \"Valid prevalence_rate(n = %d):%.3f\"\n",
    "    % (len(df_valid), calc_prevalence(df_valid.SEIZURE_OUTPUT.values))\n",
    ")\n",
    "print(\n",
    "    \"Train all prevalence_rate(n = %d):%.3f\"\n",
    "    % (len(df_train_all), calc_prevalence(df_train_all.SEIZURE_OUTPUT.values))\n",
    ")"
   ]
  },
  {
   "cell_type": "code",
   "execution_count": 20,
   "metadata": {},
   "outputs": [
    {
     "name": "stdout",
     "output_type": "stream",
     "text": [
      "all samples (n = 11503)\n"
     ]
    }
   ],
   "source": [
    "#Check if there are no missing values/features/samples again\n",
    "print('all samples (n = %d)'%len(df2))\n",
    "assert len(df2) == (len(df_test)+len(df_valid)+len(df_train_all)),'math didnt work'"
   ]
  },
  {
   "cell_type": "code",
   "execution_count": 21,
   "metadata": {},
   "outputs": [],
   "source": [
    "#Our training data set has a prevalance rate 20% which means that there are many more negative samples than positive ones.\n",
    "#This is not desirable as we want our model to be trained without bias.\n",
    "#To rectify this, we use the sub-sample balancing method to achieve a prevalence_rate of 50% which will be unbiased data set."
   ]
  },
  {
   "cell_type": "code",
   "execution_count": 22,
   "metadata": {},
   "outputs": [
    {
     "name": "stdout",
     "output_type": "stream",
     "text": [
      "Training_set balanced prevalence(n = 3150):0.500\n"
     ]
    }
   ],
   "source": [
    "rows_pos = df_train_all.SEIZURE_OUTPUT == 1\n",
    "df_train_pos = df_train_all.loc[rows_pos]\n",
    "df_train_neg = df_train_all.loc[~rows_pos]\n",
    "\n",
    "n = np.min([len(df_train_pos), len(df_train_neg)])\n",
    "\n",
    "df_train = pd.concat([df_train_pos.sample(n=n, random_state=69), df_train_neg.sample(n=n, random_state=69)], axis=0, ignore_index=True)\n",
    "\n",
    "df_train = df_train.sample(n=len(df_train), random_state=69).reset_index(drop=True)\n",
    "\n",
    "print('Training_set balanced prevalence(n = %d):%.3f'%(len(df_train), calc_prevalence(df_train.SEIZURE_OUTPUT.values)))"
   ]
  },
  {
   "cell_type": "code",
   "execution_count": 23,
   "metadata": {},
   "outputs": [
    {
     "data": {
      "text/plain": [
       "(3150, 179)"
      ]
     },
     "execution_count": 23,
     "metadata": {},
     "output_type": "execute_result"
    }
   ],
   "source": [
    "df_train.shape"
   ]
  },
  {
   "cell_type": "code",
   "execution_count": 24,
   "metadata": {},
   "outputs": [],
   "source": [
    "#Save all 4 dataframes to a csv\n",
    "df_train_all.to_csv('df_train_all.csv',index=False)\n",
    "df_train.to_csv('df_train.csv',index=False)\n",
    "df_valid.to_csv('df_valid.csv',index=False)\n",
    "df_test.to_csv('df_test.csv',index=False)"
   ]
  },
  {
   "cell_type": "code",
   "execution_count": 25,
   "metadata": {},
   "outputs": [
    {
     "name": "stdout",
     "output_type": "stream",
     "text": [
      "Training All shapes: (8052, 178)\n",
      "Training shapes: (3150, 178) (3150,)\n",
      "Validation shapes: (1725, 178) (1725,)\n"
     ]
    }
   ],
   "source": [
    "#Create X and Y matrices from our training set to measure the results of the model\n",
    "X_train = df_train[cols_input].values\n",
    "X_train_all = df_train_all[cols_input].values\n",
    "X_valid = df_valid[cols_input].values\n",
    "\n",
    "y_train = df_train['SEIZURE_OUTPUT'].values\n",
    "y_valid = df_valid['SEIZURE_OUTPUT'].values\n",
    "\n",
    "X_test = df_test[cols_input].values\n",
    "y_test = df_test['SEIZURE_OUTPUT'].values\n",
    "\n",
    "print('Training All shapes:',X_train_all.shape)\n",
    "print('Training shapes:',X_train.shape, y_train.shape)\n",
    "print('Validation shapes:',X_valid.shape, y_valid.shape)"
   ]
  },
  {
   "cell_type": "code",
   "execution_count": 26,
   "metadata": {},
   "outputs": [
    {
     "data": {
      "text/plain": [
       "numpy.ndarray"
      ]
     },
     "execution_count": 26,
     "metadata": {},
     "output_type": "execute_result"
    }
   ],
   "source": [
    "type(y_train)"
   ]
  },
  {
   "cell_type": "code",
   "execution_count": 27,
   "metadata": {},
   "outputs": [
    {
     "data": {
      "text/plain": [
       "array([1, 1, 1, ..., 0, 0, 0])"
      ]
     },
     "execution_count": 27,
     "metadata": {},
     "output_type": "execute_result"
    }
   ],
   "source": [
    "y_train"
   ]
  },
  {
   "cell_type": "code",
   "execution_count": 28,
   "metadata": {},
   "outputs": [
    {
     "data": {
      "text/plain": [
       "array([[ -11,  -17,  -20, ...,  -15,  -21,  -26],\n",
       "       [-132, -137, -137, ...,    8,   -1,  -22],\n",
       "       [   3,  -44,  -80, ...,  -86,  -52,  -28],\n",
       "       ...,\n",
       "       [  44,   39,   38, ...,  -22,  -18,  -22],\n",
       "       [ 274,  320,  348, ..., -219, -493, -735],\n",
       "       [ 151,  164,  184, ...,  -67,  -60,  -57]], dtype=int64)"
      ]
     },
     "execution_count": 28,
     "metadata": {},
     "output_type": "execute_result"
    }
   ],
   "source": [
    "X_test"
   ]
  },
  {
   "cell_type": "code",
   "execution_count": 29,
   "metadata": {},
   "outputs": [],
   "source": [
    "#Normalize the data and pickle it using StandardScaler and pickle library.\n",
    "import pickle\n",
    "\n",
    "scaler  = StandardScaler()\n",
    "scaler.fit(X_train_all)\n",
    "\n",
    "scalerfile = 'scaler.sav'\n",
    "pickle.dump(scaler, open(scalerfile, 'wb'))\n",
    "scaler = pickle.load(open(scalerfile, 'rb'))\n",
    "\n",
    "#y_train=np.array(y_test).reshape(-1,1)\n",
    "\n",
    "#Transform our data matrices so that data will have a mean value 0 and standard deviation of 1.\n",
    "X_train_tf = scaler.transform(X_train)\n",
    "X_valid_tf = scaler.transform(X_valid)\n",
    "X_test_tf = scaler.transform(X_test)\n",
    "#y_train_tf = scaler.transform(y_train)"
   ]
  },
  {
   "cell_type": "code",
   "execution_count": 30,
   "metadata": {},
   "outputs": [
    {
     "data": {
      "text/plain": [
       "array([[ 2.98901151e-03, -3.98662172e-02, -6.65164473e-02, ...,\n",
       "        -2.77905390e-02, -6.64100599e-02, -9.78919311e-02],\n",
       "       [-7.32036229e-01, -7.68052642e-01, -7.80791684e-01, ...,\n",
       "         1.16265683e-01,  5.81349039e-02, -7.32748749e-02],\n",
       "       [ 8.80332542e-02, -2.03708163e-01, -4.32811440e-01, ...,\n",
       "        -4.72485834e-01, -2.59454754e-01, -1.10200459e-01],\n",
       "       ...,\n",
       "       [ 3.37091394e-01,  2.99954114e-01,  2.87568713e-01, ...,\n",
       "        -7.16337371e-02, -4.77283153e-02, -7.32748749e-02],\n",
       "       [ 1.73424681e+00,  2.00512399e+00,  2.18009284e+00, ...,\n",
       "        -1.30550660e+00, -3.00567121e+00, -4.46126513e+00],\n",
       "       [ 9.87072392e-01,  1.05848164e+00,  1.17888653e+00, ...,\n",
       "        -3.53482868e-01, -3.09272739e-01, -2.88674116e-01]])"
      ]
     },
     "execution_count": 30,
     "metadata": {},
     "output_type": "execute_result"
    }
   ],
   "source": [
    "X_test_tf"
   ]
  },
  {
   "cell_type": "code",
   "execution_count": 31,
   "metadata": {},
   "outputs": [
    {
     "data": {
      "text/html": [
       "<div>\n",
       "<style scoped>\n",
       "    .dataframe tbody tr th:only-of-type {\n",
       "        vertical-align: middle;\n",
       "    }\n",
       "\n",
       "    .dataframe tbody tr th {\n",
       "        vertical-align: top;\n",
       "    }\n",
       "\n",
       "    .dataframe thead th {\n",
       "        text-align: right;\n",
       "    }\n",
       "</style>\n",
       "<table border=\"1\" class=\"dataframe\">\n",
       "  <thead>\n",
       "    <tr style=\"text-align: right;\">\n",
       "      <th></th>\n",
       "      <th>X1</th>\n",
       "      <th>X2</th>\n",
       "      <th>X3</th>\n",
       "      <th>X4</th>\n",
       "      <th>X5</th>\n",
       "      <th>X6</th>\n",
       "      <th>X7</th>\n",
       "      <th>X8</th>\n",
       "      <th>X9</th>\n",
       "      <th>X10</th>\n",
       "      <th>...</th>\n",
       "      <th>X170</th>\n",
       "      <th>X171</th>\n",
       "      <th>X172</th>\n",
       "      <th>X173</th>\n",
       "      <th>X174</th>\n",
       "      <th>X175</th>\n",
       "      <th>X176</th>\n",
       "      <th>X177</th>\n",
       "      <th>X178</th>\n",
       "      <th>SEIZURE_OUTPUT</th>\n",
       "    </tr>\n",
       "  </thead>\n",
       "  <tbody>\n",
       "    <tr>\n",
       "      <td>0</td>\n",
       "      <td>-38</td>\n",
       "      <td>-18</td>\n",
       "      <td>-7</td>\n",
       "      <td>-2</td>\n",
       "      <td>20</td>\n",
       "      <td>12</td>\n",
       "      <td>-12</td>\n",
       "      <td>-8</td>\n",
       "      <td>15</td>\n",
       "      <td>15</td>\n",
       "      <td>...</td>\n",
       "      <td>-22</td>\n",
       "      <td>-13</td>\n",
       "      <td>4</td>\n",
       "      <td>-1</td>\n",
       "      <td>1</td>\n",
       "      <td>13</td>\n",
       "      <td>7</td>\n",
       "      <td>-1</td>\n",
       "      <td>10</td>\n",
       "      <td>0</td>\n",
       "    </tr>\n",
       "    <tr>\n",
       "      <td>1</td>\n",
       "      <td>207</td>\n",
       "      <td>0</td>\n",
       "      <td>-182</td>\n",
       "      <td>-225</td>\n",
       "      <td>-142</td>\n",
       "      <td>51</td>\n",
       "      <td>250</td>\n",
       "      <td>398</td>\n",
       "      <td>515</td>\n",
       "      <td>523</td>\n",
       "      <td>...</td>\n",
       "      <td>153</td>\n",
       "      <td>-466</td>\n",
       "      <td>-1088</td>\n",
       "      <td>-1359</td>\n",
       "      <td>-1206</td>\n",
       "      <td>-750</td>\n",
       "      <td>-284</td>\n",
       "      <td>101</td>\n",
       "      <td>341</td>\n",
       "      <td>1</td>\n",
       "    </tr>\n",
       "    <tr>\n",
       "      <td>2</td>\n",
       "      <td>45</td>\n",
       "      <td>46</td>\n",
       "      <td>48</td>\n",
       "      <td>56</td>\n",
       "      <td>62</td>\n",
       "      <td>65</td>\n",
       "      <td>61</td>\n",
       "      <td>58</td>\n",
       "      <td>57</td>\n",
       "      <td>48</td>\n",
       "      <td>...</td>\n",
       "      <td>-20</td>\n",
       "      <td>-26</td>\n",
       "      <td>-30</td>\n",
       "      <td>-32</td>\n",
       "      <td>-32</td>\n",
       "      <td>-33</td>\n",
       "      <td>-34</td>\n",
       "      <td>-35</td>\n",
       "      <td>-32</td>\n",
       "      <td>0</td>\n",
       "    </tr>\n",
       "    <tr>\n",
       "      <td>3</td>\n",
       "      <td>75</td>\n",
       "      <td>70</td>\n",
       "      <td>71</td>\n",
       "      <td>67</td>\n",
       "      <td>74</td>\n",
       "      <td>89</td>\n",
       "      <td>102</td>\n",
       "      <td>110</td>\n",
       "      <td>111</td>\n",
       "      <td>113</td>\n",
       "      <td>...</td>\n",
       "      <td>29</td>\n",
       "      <td>11</td>\n",
       "      <td>1</td>\n",
       "      <td>7</td>\n",
       "      <td>26</td>\n",
       "      <td>45</td>\n",
       "      <td>58</td>\n",
       "      <td>60</td>\n",
       "      <td>49</td>\n",
       "      <td>0</td>\n",
       "    </tr>\n",
       "    <tr>\n",
       "      <td>4</td>\n",
       "      <td>41</td>\n",
       "      <td>48</td>\n",
       "      <td>50</td>\n",
       "      <td>57</td>\n",
       "      <td>65</td>\n",
       "      <td>58</td>\n",
       "      <td>44</td>\n",
       "      <td>33</td>\n",
       "      <td>23</td>\n",
       "      <td>8</td>\n",
       "      <td>...</td>\n",
       "      <td>-5</td>\n",
       "      <td>4</td>\n",
       "      <td>-1</td>\n",
       "      <td>2</td>\n",
       "      <td>18</td>\n",
       "      <td>42</td>\n",
       "      <td>37</td>\n",
       "      <td>24</td>\n",
       "      <td>15</td>\n",
       "      <td>0</td>\n",
       "    </tr>\n",
       "  </tbody>\n",
       "</table>\n",
       "<p>5 rows × 179 columns</p>\n",
       "</div>"
      ],
      "text/plain": [
       "    X1  X2   X3   X4   X5  X6   X7   X8   X9  X10  ...  X170  X171  X172  \\\n",
       "0  -38 -18   -7   -2   20  12  -12   -8   15   15  ...   -22   -13     4   \n",
       "1  207   0 -182 -225 -142  51  250  398  515  523  ...   153  -466 -1088   \n",
       "2   45  46   48   56   62  65   61   58   57   48  ...   -20   -26   -30   \n",
       "3   75  70   71   67   74  89  102  110  111  113  ...    29    11     1   \n",
       "4   41  48   50   57   65  58   44   33   23    8  ...    -5     4    -1   \n",
       "\n",
       "   X173  X174  X175  X176  X177  X178  SEIZURE_OUTPUT  \n",
       "0    -1     1    13     7    -1    10               0  \n",
       "1 -1359 -1206  -750  -284   101   341               1  \n",
       "2   -32   -32   -33   -34   -35   -32               0  \n",
       "3     7    26    45    58    60    49               0  \n",
       "4     2    18    42    37    24    15               0  \n",
       "\n",
       "[5 rows x 179 columns]"
      ]
     },
     "execution_count": 31,
     "metadata": {},
     "output_type": "execute_result"
    }
   ],
   "source": [
    "df2.head()"
   ]
  },
  {
   "cell_type": "markdown",
   "metadata": {},
   "source": [
    "# Code Blocks to calculate parameters"
   ]
  },
  {
   "cell_type": "code",
   "execution_count": 32,
   "metadata": {},
   "outputs": [],
   "source": [
    "def print_report(tn,fp,fn,tp,p,n):\n",
    "    import math\n",
    "    accuracy = ((tp + tn)/(tp + tn + fp + fn))*100\n",
    "    precision = tp/(fp + tp)\n",
    "    recall = tp/(fn + tp)\n",
    "    f1_measure = 2*(precision*recall)/(precision+recall)\n",
    "    sensitivity = tp/p\n",
    "    specificity = tn/n\n",
    "    mcc = ((tp*tn)-(fp*fn))/math.sqrt((tp+fp)*(tp+fn)*(tn+fp)*(tn+fn))\n",
    "    \n",
    "    print('Accuracy:%.3f'%accuracy,\"%\")\n",
    "    print('Precision:%.3f'%precision)\n",
    "    print('Recall:%.3f'%recall)\n",
    "    print('F1-score:%.3f'%f1_measure)\n",
    "    #print('Sensitivity:%.3f'%sensitivity)\n",
    "    print('Specificity:%.3f'%specificity)\n",
    "    print('Matthews correlation coefficient:%.3f'%mcc)\n",
    "    \n",
    "    return accuracy, precision, recall, f1_measure, sensitivity, specificity, mcc"
   ]
  },
  {
   "cell_type": "code",
   "execution_count": 33,
   "metadata": {},
   "outputs": [],
   "source": [
    "def cm_results(title, cm, test, pred):\n",
    "    \n",
    "    LABELS = ['Normal', 'Seizure']\n",
    "    plt.figure(figsize=(7, 7))\n",
    "    sns.heatmap(cm/np.sum(cm), annot=True ,cmap=\"binary\")\n",
    "    \n",
    "    plt.title('\\nConfusion matrix: {}'.format(title)+\"\\n\")\n",
    "    plt.ylabel('True class')\n",
    "    plt.xlabel('Predicted class')\n",
    "    plt.show()\n",
    "    \n",
    "    tn, fp, fn, tp = confusion_matrix(test, pred).ravel()\n",
    "    sum_ = tn+fp+fn+tp\n",
    "    \n",
    "    tn_per = round(tn/sum_*100,2)\n",
    "    fp_per = round(fp/sum_*100,2)\n",
    "    fn_per = round(fn/sum_*100,2)\n",
    "    tp_per = round(tp/sum_*100,2)\n",
    "    \n",
    "    print(\"True Negatives: \",tn,\" True Negatives %: \",tn_per)\n",
    "    print(\"False Positives: \",fp,\" False Postitves %: \",fp_per)\n",
    "    print(\"False Negatives: \",fn,\" Flase Negatives %: \",fn_per)\n",
    "    print(\"True Positives: \",tp,\" True Positives %: \",tp_per)\n",
    "    "
   ]
  },
  {
   "cell_type": "markdown",
   "metadata": {},
   "source": [
    "# Model Training"
   ]
  },
  {
   "cell_type": "markdown",
   "metadata": {},
   "source": [
    "### KNN model"
   ]
  },
  {
   "cell_type": "code",
   "execution_count": 34,
   "metadata": {},
   "outputs": [
    {
     "name": "stdout",
     "output_type": "stream",
     "text": [
      "KNN MODEL-\n",
      "\n",
      "\n",
      "Training Dataset:\n",
      "Accuracy:82.921 %\n",
      "Precision:0.998\n",
      "Recall:0.660\n",
      "F1-score:0.794\n",
      "Sensitivity:0.660\n",
      "Specificity:0.999\n",
      "Matthews correlation coefficient:0.700\n"
     ]
    },
    {
     "data": {
      "image/png": "[encoded data removed]",
      "text/plain": [
       "<Figure size 504x504 with 2 Axes>"
      ]
     },
     "metadata": {
      "needs_background": "light"
     },
     "output_type": "display_data"
    },
    {
     "name": "stdout",
     "output_type": "stream",
     "text": [
      "True Negatives:  1573  True Negatives %:  49.94\n",
      "False Positives:  2  False Postitves %:  0.06\n",
      "False Negatives:  536  Flase Negatives %:  17.02\n",
      "True Positives:  1039  True Positives %:  32.98\n",
      "\n",
      "\n",
      "\n",
      "Validation Dataset:\n",
      "Accuracy:85.449 %\n",
      "Precision:0.983\n",
      "Recall:0.314\n",
      "F1-score:0.476\n",
      "Sensitivity:0.314\n",
      "Specificity:0.999\n",
      "Matthews correlation coefficient:0.509\n"
     ]
    },
    {
     "data": {
      "image/png": "[encoded data removed]",
      "text/plain": [
       "<Figure size 504x504 with 2 Axes>"
      ]
     },
     "metadata": {
      "needs_background": "light"
     },
     "output_type": "display_data"
    },
    {
     "name": "stdout",
     "output_type": "stream",
     "text": [
      "True Negatives:  1360  True Negatives %:  78.84\n",
      "False Positives:  2  False Postitves %:  0.12\n",
      "False Negatives:  249  Flase Negatives %:  14.43\n",
      "True Positives:  114  True Positives %:  6.61\n"
     ]
    }
   ],
   "source": [
    "#Code that will calculate findings of KNN model\n",
    "\n",
    "import warnings\n",
    "warnings.filterwarnings('ignore')\n",
    "\n",
    "from sklearn.neighbors import KNeighborsClassifier              #Importing KNN library\n",
    "from sklearn.metrics import confusion_matrix\n",
    "\n",
    "conf_matrix_model_KNN = ['KNN_Training','KNN_Validation']\n",
    "\n",
    "knn_train = KNeighborsClassifier(n_neighbors = 10)              #Creating KNN classifier (k=10)\n",
    "knn_valid = KNeighborsClassifier(n_neighbors = 10)              #Creating KNN classifier (k=10)\n",
    "knn_train.fit(X_train_tf, y_train)                              #Fitting the model for our training data\n",
    "knn_valid.fit(X_valid_tf, y_valid)                              #Fitting the model for our validation data\n",
    "\n",
    "#Store the predicted output of the training feature set in variable 'y_train_pred'\n",
    "y_train_pred = knn_train.predict(X_train_tf)\n",
    "knn_train_cm = confusion_matrix(y_train,y_train_pred)           #Create confusion  matrix on training data\n",
    "\n",
    "train_tn,train_fp,train_fn,train_tp = [(knn_train_cm[i,j]) for i in range(len(knn_train_cm)) for j in range(len(knn_train_cm))]\n",
    "train_p = knn_train_cm[1,0] + knn_train_cm[1,1]\n",
    "train_n = knn_train_cm[0,0] + knn_train_cm[0,1]\n",
    "\n",
    "\n",
    "#Store the predicted output of the validation feature set in variable 'y_valid_pred'\n",
    "y_valid_pred = knn_valid.predict(X_valid_tf)\n",
    "knn_valid_cm = confusion_matrix(y_valid,y_valid_pred)           #Create confusion  matrix on validation data\n",
    "\n",
    "valid_tn,valid_fp,valid_fn,valid_tp = [(knn_valid_cm[i,j]) for i in range(len(knn_valid_cm)) for j in range(len(knn_valid_cm))]\n",
    "valid_p = knn_valid_cm[1,0] + knn_valid_cm[1,1]\n",
    "valid_n = knn_valid_cm[0,0] + knn_valid_cm[0,1]\n",
    "\n",
    "print('KNN MODEL-')\n",
    "print(\"\\n\")\n",
    "print('Training Dataset:')\n",
    "knn_train_acc, knn_train_recall, knn_train_precision, knn_train_f1_measure, \\\n",
    "    knn_train_sensitivity, knn_train_specificity, knn_train_mcc = print_report(train_tn,train_fp,train_fn,train_tp,train_p,train_n)\n",
    "cm_results(conf_matrix_model_KNN[0], knn_train_cm, y_train, y_train_pred)\n",
    "\n",
    "\n",
    "print(\"\\n\\n\")\n",
    "print('Validation Dataset:')\n",
    "knn_valid_acc, knn_valid_recall, knn_valid_precision, knn_valid_f1_measure, \\\n",
    "    knn_valid_sensitivity, knn_valid_specificity, knn_valid_mcc = print_report(valid_tn,valid_fp,valid_fn,valid_tp,valid_p,valid_n)\n",
    "cm_results(conf_matrix_model_KNN[1], knn_valid_cm, y_valid, y_valid_pred)\n"
   ]
  },
  {
   "cell_type": "markdown",
   "metadata": {},
   "source": [
    "### Logistic Regression Model"
   ]
  },
  {
   "cell_type": "code",
   "execution_count": 35,
   "metadata": {},
   "outputs": [
    {
     "name": "stdout",
     "output_type": "stream",
     "text": [
      "LOGISITIC REGRESSION MODEL-\n",
      "\n",
      "\n",
      "Training Dataset:\n",
      "Accuracy:65.429 %\n",
      "Precision:0.711\n",
      "Recall:0.520\n",
      "F1-score:0.601\n",
      "Sensitivity:0.520\n",
      "Specificity:0.789\n",
      "Matthews correlation coefficient:0.320\n"
     ]
    },
    {
     "data": {
      "image/png": "[encoded data removed]",
      "text/plain": [
       "<Figure size 504x504 with 2 Axes>"
      ]
     },
     "metadata": {
      "needs_background": "light"
     },
     "output_type": "display_data"
    },
    {
     "name": "stdout",
     "output_type": "stream",
     "text": [
      "True Negatives:  1242  True Negatives %:  39.43\n",
      "False Positives:  333  False Postitves %:  10.57\n",
      "False Negatives:  756  Flase Negatives %:  24.0\n",
      "True Positives:  819  True Positives %:  26.0\n",
      "\n",
      "\n",
      "\n",
      "Validation Dataset:\n",
      "Accuracy:86.087 %\n",
      "Precision:0.962\n",
      "Recall:0.353\n",
      "F1-score:0.516\n",
      "Sensitivity:0.353\n",
      "Specificity:0.996\n",
      "Matthews correlation coefficient:0.533\n"
     ]
    },
    {
     "data": {
      "image/png": "[encoded data removed]",
      "text/plain": [
       "<Figure size 504x504 with 2 Axes>"
      ]
     },
     "metadata": {
      "needs_background": "light"
     },
     "output_type": "display_data"
    },
    {
     "name": "stdout",
     "output_type": "stream",
     "text": [
      "True Negatives:  1357  True Negatives %:  78.67\n",
      "False Positives:  5  False Postitves %:  0.29\n",
      "False Negatives:  235  Flase Negatives %:  13.62\n",
      "True Positives:  128  True Positives %:  7.42\n"
     ]
    }
   ],
   "source": [
    "#Code that will calculate findings of Logistic Regression model\n",
    "\n",
    "import warnings\n",
    "warnings.filterwarnings('ignore')\n",
    "\n",
    "from sklearn.linear_model import LogisticRegression               #Import the Logistic Regression library \n",
    "from sklearn.metrics import confusion_matrix\n",
    "\n",
    "conf_matrix_model_LR = ['LogReg_Training','LogReg_Validation']\n",
    "\n",
    "lr_train = LogisticRegression(random_state = 69)                  #Create Logistic Regression Classifier for training data\n",
    "lr_valid = LogisticRegression(random_state = 69)                  #Create Logistic Regression Classifier for validation data\n",
    "lr_train.fit(X_train_tf, y_train)                                 #Fit classifier to our training sets\n",
    "lr_valid.fit(X_valid_tf, y_valid)                                 #Fit classifier to our training sets\n",
    "\n",
    "#Store the predicted output of the training feature set in variable 'y_train_pred'\n",
    "y_train_pred = lr_train.predict(X_train_tf)\n",
    "lr_train_cm = confusion_matrix(y_train,y_train_pred)              #Create confusion  matrix on training data\n",
    "\n",
    "train_tn,train_fp,train_fn,train_tp = [(lr_train_cm[i,j]) for i in range(len(lr_train_cm)) for j in range(len(lr_train_cm))]\n",
    "train_p = lr_train_cm[1,0] + lr_train_cm[1,1]\n",
    "train_n = lr_train_cm[0,0] + lr_train_cm[0,1]\n",
    "\n",
    "\n",
    "#Store the predicted output of the validation feature set in variable 'y_valid_pred'\n",
    "y_valid_pred = lr_valid.predict(X_valid_tf)\n",
    "lr_valid_cm = confusion_matrix(y_valid,y_valid_pred)              #Create confusion  matrix on validation data\n",
    "\n",
    "valid_tn,valid_fp,valid_fn,valid_tp = [(lr_valid_cm[i,j]) for i in range(len(lr_valid_cm)) for j in range(len(lr_valid_cm))]\n",
    "valid_p = lr_valid_cm[1,0] + lr_valid_cm[1,1]\n",
    "valid_n = lr_valid_cm[0,0] + lr_valid_cm[0,1]\n",
    "\n",
    "print('LOGISITIC REGRESSION MODEL-')\n",
    "print(\"\\n\")\n",
    "print('Training Dataset:')\n",
    "lr_train_acc, lr_train_recall, lr_train_precision, lr_train_f1_measure, \\\n",
    "    lr_train_sensitivity, lr_train_specificity, lr_train_mcc = print_report(train_tn,train_fp,train_fn,train_tp,train_p,train_n)\n",
    "cm_results(conf_matrix_model_LR[0], lr_train_cm, y_train, y_train_pred)\n",
    "\n",
    "print(\"\\n\\n\")\n",
    "print('Validation Dataset:')\n",
    "lr_valid_acc, lr_valid_recall, lr_valid_precision, lr_valid_f1_measure, \\\n",
    "    lr_valid_sensitivity, lr_valid_specificity, lr_valid_mcc = print_report(valid_tn,valid_fp,valid_fn,valid_tp,valid_p,valid_n)\n",
    "cm_results(conf_matrix_model_LR[1], lr_valid_cm, y_valid, y_valid_pred)\n"
   ]
  },
  {
   "cell_type": "markdown",
   "metadata": {},
   "source": [
    "### Naive Bayes Model"
   ]
  },
  {
   "cell_type": "code",
   "execution_count": 36,
   "metadata": {},
   "outputs": [
    {
     "name": "stdout",
     "output_type": "stream",
     "text": [
      "NAIVE BAYES MODEL-\n",
      "\n",
      "\n",
      "Training Dataset:\n",
      "Accuracy:93.429 %\n",
      "Precision:0.971\n",
      "Recall:0.895\n",
      "F1-score:0.932\n",
      "Sensitivity:0.895\n",
      "Specificity:0.973\n",
      "Matthews correlation coefficient:0.871\n"
     ]
    },
    {
     "data": {
      "image/png": "[encoded data removed]",
      "text/plain": [
       "<Figure size 504x504 with 2 Axes>"
      ]
     },
     "metadata": {
      "needs_background": "light"
     },
     "output_type": "display_data"
    },
    {
     "name": "stdout",
     "output_type": "stream",
     "text": [
      "True Negatives:  1533  True Negatives %:  48.67\n",
      "False Positives:  42  False Postitves %:  1.33\n",
      "False Negatives:  165  Flase Negatives %:  5.24\n",
      "True Positives:  1410  True Positives %:  44.76\n",
      "\n",
      "\n",
      "\n",
      "Validation Dataset:\n",
      "Accuracy:95.768 %\n",
      "Precision:0.905\n",
      "Recall:0.893\n",
      "F1-score:0.899\n",
      "Sensitivity:0.893\n",
      "Specificity:0.975\n",
      "Matthews correlation coefficient:0.872\n"
     ]
    },
    {
     "data": {
      "image/png": "[encoded data removed]",
      "text/plain": [
       "<Figure size 504x504 with 2 Axes>"
      ]
     },
     "metadata": {
      "needs_background": "light"
     },
     "output_type": "display_data"
    },
    {
     "name": "stdout",
     "output_type": "stream",
     "text": [
      "True Negatives:  1328  True Negatives %:  76.99\n",
      "False Positives:  34  False Postitves %:  1.97\n",
      "False Negatives:  39  Flase Negatives %:  2.26\n",
      "True Positives:  324  True Positives %:  18.78\n"
     ]
    }
   ],
   "source": [
    "#Code that will calculate findings of Naive Bayes model\n",
    "\n",
    "import warnings\n",
    "warnings.filterwarnings('ignore')\n",
    "\n",
    "from sklearn.naive_bayes import GaussianNB               #Import the Naive Bayes library \n",
    "from sklearn.metrics import confusion_matrix\n",
    "\n",
    "conf_matrix_model_NB = ['NaiveBayes_Training','NaiveBayes_Validation']\n",
    "\n",
    "nb_train = GaussianNB()                  #Create Logistic Regression Classifier for training data\n",
    "nb_valid = GaussianNB()                  #Create Logistic Regression Classifier for validation data\n",
    "nb_train.fit(X_train_tf, y_train)                                 #Fit classifier to our training sets\n",
    "nb_valid.fit(X_valid_tf, y_valid)                                 #Fit classifier to our training sets\n",
    "\n",
    "#Store the predicted output of the training feature set in variable 'y_train_pred'\n",
    "y_train_pred = nb_train.predict(X_train_tf)\n",
    "nb_train_cm = confusion_matrix(y_train,y_train_pred)              #Create confusion  matrix on training data\n",
    "\n",
    "train_tn,train_fp,train_fn,train_tp = [(nb_train_cm[i,j]) for i in range(len(nb_train_cm)) for j in range(len(nb_train_cm))]\n",
    "train_p = nb_train_cm[1,0] + nb_train_cm[1,1]\n",
    "train_n = nb_train_cm[0,0] + nb_train_cm[0,1]\n",
    "\n",
    "\n",
    "#Store the predicted output of the validation feature set in variable 'y_valid_pred'\n",
    "y_valid_pred = nb_valid.predict(X_valid_tf)\n",
    "nb_valid_cm = confusion_matrix(y_valid,y_valid_pred)              #Create confusion  matrix on validation data\n",
    "\n",
    "valid_tn,valid_fp,valid_fn,valid_tp = [(nb_valid_cm[i,j]) for i in range(len(nb_valid_cm)) for j in range(len(nb_valid_cm))]\n",
    "valid_p = nb_valid_cm[1,0] + nb_valid_cm[1,1]\n",
    "valid_n = nb_valid_cm[0,0] + nb_valid_cm[0,1]\n",
    "\n",
    "print('NAIVE BAYES MODEL-')\n",
    "print(\"\\n\")\n",
    "print('Training Dataset:')\n",
    "nb_train_acc, nb_train_recall, nb_train_precision, nb_train_f1_measure, \\\n",
    "    nb_train_sensitivity, nb_train_specificity, nb_train_mcc = print_report(train_tn,train_fp,train_fn,train_tp,train_p,train_n)\n",
    "cm_results(conf_matrix_model_NB[0], nb_train_cm, y_train, y_train_pred)\n",
    "\n",
    "print(\"\\n\\n\")\n",
    "print('Validation Dataset:')\n",
    "nb_valid_acc, nb_valid_recall, nb_valid_precision, nb_valid_f1_measure, \\\n",
    "    nb_valid_sensitivity, nb_valid_specificity, nb_valid_mcc = print_report(valid_tn,valid_fp,valid_fn,valid_tp,valid_p,valid_n)\n",
    "cm_results(conf_matrix_model_NB[1], nb_valid_cm, y_valid, y_valid_pred)\n"
   ]
  },
  {
   "cell_type": "markdown",
   "metadata": {},
   "source": [
    "### Random Forest Model"
   ]
  },
  {
   "cell_type": "code",
   "execution_count": 37,
   "metadata": {},
   "outputs": [
    {
     "name": "stdout",
     "output_type": "stream",
     "text": [
      "RANDOM FOREST MODEL-\n",
      "\n",
      "\n",
      "Training Dataset:\n",
      "Accuracy:99.841 %\n",
      "Precision:0.999\n",
      "Recall:0.998\n",
      "F1-score:0.998\n",
      "Sensitivity:0.998\n",
      "Specificity:0.999\n",
      "Matthews correlation coefficient:0.997\n"
     ]
    },
    {
     "data": {
      "image/png": "[encoded data removed]",
      "text/plain": [
       "<Figure size 504x504 with 2 Axes>"
      ]
     },
     "metadata": {
      "needs_background": "light"
     },
     "output_type": "display_data"
    },
    {
     "name": "stdout",
     "output_type": "stream",
     "text": [
      "True Negatives:  1573  True Negatives %:  49.94\n",
      "False Positives:  2  False Postitves %:  0.06\n",
      "False Negatives:  3  Flase Negatives %:  0.1\n",
      "True Positives:  1572  True Positives %:  49.9\n",
      "\n",
      "\n",
      "\n",
      "Validation Dataset:\n",
      "Accuracy:99.884 %\n",
      "Precision:1.000\n",
      "Recall:0.994\n",
      "F1-score:0.997\n",
      "Sensitivity:0.994\n",
      "Specificity:1.000\n",
      "Matthews correlation coefficient:0.997\n"
     ]
    },
    {
     "data": {
      "image/png": "[encoded data removed]",
      "text/plain": [
       "<Figure size 504x504 with 2 Axes>"
      ]
     },
     "metadata": {
      "needs_background": "light"
     },
     "output_type": "display_data"
    },
    {
     "name": "stdout",
     "output_type": "stream",
     "text": [
      "True Negatives:  1362  True Negatives %:  78.96\n",
      "False Positives:  0  False Postitves %:  0.0\n",
      "False Negatives:  2  Flase Negatives %:  0.12\n",
      "True Positives:  361  True Positives %:  20.93\n"
     ]
    }
   ],
   "source": [
    "import warnings\n",
    "warnings.filterwarnings('ignore')\n",
    "\n",
    "from sklearn.ensemble import RandomForestClassifier              #Import the Random Forest library \n",
    "from sklearn.metrics import confusion_matrix\n",
    "\n",
    "conf_matrix_model_RF = ['RandomForest_Training','RandomForest_Validation']\n",
    "\n",
    "rf_train = RandomForestClassifier()                 #Create Random Forest Classifier for training data\n",
    "rf_valid = RandomForestClassifier()                  #Create Random Forest Classifier for validation data\n",
    "rf_train.fit(X_train_tf, y_train)                                 #Fit classifier to our training sets\n",
    "rf_valid.fit(X_valid_tf, y_valid)                                 #Fit classifier to our training sets\n",
    "\n",
    "#Store the predicted output of the training feature set in variable 'y_train_pred'\n",
    "y_train_pred = rf_train.predict(X_train_tf)\n",
    "rf_train_cm = confusion_matrix(y_train,y_train_pred)              #Create confusion  matrix on training data\n",
    "\n",
    "train_tn,train_fp,train_fn,train_tp = [(rf_train_cm[i,j]) for i in range(len(rf_train_cm)) for j in range(len(rf_train_cm))]\n",
    "train_p = rf_train_cm[1,0] + rf_train_cm[1,1]\n",
    "train_n = rf_train_cm[0,0] + rf_train_cm[0,1]\n",
    "\n",
    "\n",
    "#Store the predicted output of the validation feature set in variable 'y_valid_pred'\n",
    "y_valid_pred = rf_valid.predict(X_valid_tf)\n",
    "rf_valid_cm = confusion_matrix(y_valid,y_valid_pred)              #Create confusion  matrix on validation data\n",
    "\n",
    "valid_tn,valid_fp,valid_fn,valid_tp = [(rf_valid_cm[i,j]) for i in range(len(rf_valid_cm)) for j in range(len(rf_valid_cm))]\n",
    "valid_p = rf_valid_cm[1,0] + rf_valid_cm[1,1]\n",
    "valid_n = rf_valid_cm[0,0] + rf_valid_cm[0,1]\n",
    "\n",
    "print('RANDOM FOREST MODEL-')\n",
    "print(\"\\n\")\n",
    "print('Training Dataset:')\n",
    "\n",
    "rf_train_acc, rf_train_recall, rf_train_precision, rf_train_f1_measure, \\\n",
    "    rf_train_sensitivity, rf_train_specificity, rf_train_mcc = print_report(train_tn,train_fp,train_fn,train_tp,train_p,train_n)\n",
    "cm_results(conf_matrix_model_RF[0], rf_train_cm, y_train, y_train_pred)\n",
    "\n",
    "print(\"\\n\\n\")\n",
    "print('Validation Dataset:')\n",
    "rf_valid_acc, rf_valid_recall, rf_valid_precision, rf_valid_f1_measure, \\\n",
    "    rf_valid_sensitivity, rf_valid_specificity, rf_valid_mcc = print_report(valid_tn,valid_fp,valid_fn,valid_tp,valid_p,valid_n)\n",
    "cm_results(conf_matrix_model_RF[1], rf_valid_cm, y_valid, y_valid_pred)\n"
   ]
  },
  {
   "cell_type": "markdown",
   "metadata": {},
   "source": [
    "### Gradient Boosting Model"
   ]
  },
  {
   "cell_type": "code",
   "execution_count": 38,
   "metadata": {},
   "outputs": [
    {
     "name": "stdout",
     "output_type": "stream",
     "text": [
      "Gradient Boosting MODEL-\n",
      "\n",
      "\n",
      "Training Dataset:\n",
      "Accuracy:99.238 %\n",
      "Precision:0.995\n",
      "Recall:0.990\n",
      "F1-score:0.992\n",
      "Sensitivity:0.990\n",
      "Specificity:0.995\n",
      "Matthews correlation coefficient:0.985\n"
     ]
    },
    {
     "data": {
      "image/png": "[encoded data removed]",
      "text/plain": [
       "<Figure size 504x504 with 2 Axes>"
      ]
     },
     "metadata": {
      "needs_background": "light"
     },
     "output_type": "display_data"
    },
    {
     "name": "stdout",
     "output_type": "stream",
     "text": [
      "True Negatives:  1567  True Negatives %:  49.75\n",
      "False Positives:  8  False Postitves %:  0.25\n",
      "False Negatives:  16  Flase Negatives %:  0.51\n",
      "True Positives:  1559  True Positives %:  49.49\n",
      "\n",
      "\n",
      "\n",
      "Validation Dataset:\n",
      "Accuracy:100.000 %\n",
      "Precision:1.000\n",
      "Recall:1.000\n",
      "F1-score:1.000\n",
      "Sensitivity:1.000\n",
      "Specificity:1.000\n",
      "Matthews correlation coefficient:1.000\n"
     ]
    },
    {
     "data": {
      "image/png": "[encoded data removed]",
      "text/plain": [
       "<Figure size 504x504 with 2 Axes>"
      ]
     },
     "metadata": {
      "needs_background": "light"
     },
     "output_type": "display_data"
    },
    {
     "name": "stdout",
     "output_type": "stream",
     "text": [
      "True Negatives:  1362  True Negatives %:  78.96\n",
      "False Positives:  0  False Postitves %:  0.0\n",
      "False Negatives:  0  Flase Negatives %:  0.0\n",
      "True Positives:  363  True Positives %:  21.04\n"
     ]
    }
   ],
   "source": [
    "import warnings\n",
    "warnings.filterwarnings('ignore')\n",
    "\n",
    "from sklearn.ensemble import GradientBoostingClassifier             #Import the Gradient Booster library \n",
    "from sklearn.metrics import confusion_matrix\n",
    "\n",
    "\n",
    "conf_matrix_model_GB = ['GradientBoosting_Training','GradientBoosting_Validation']\n",
    "\n",
    "gb_train = GradientBoostingClassifier()                             #Create Gradient Booster Classifier for training data\n",
    "gb_valid = GradientBoostingClassifier()                             #Create Gradient Booster Classifier for validation data\n",
    "gb_train.fit(X_train_tf, y_train)                                   #Fit classifier to our training sets\n",
    "gb_valid.fit(X_valid_tf, y_valid)                                   #Fit classifier to our training sets\n",
    "\n",
    "#Store the predicted output of the training feature set in variable 'y_train_pred'\n",
    "y_train_pred = gb_train.predict(X_train_tf)\n",
    "gb_train_cm = confusion_matrix(y_train,y_train_pred)                #Create confusion  matrix on training data\n",
    "\n",
    "train_tn,train_fp,train_fn,train_tp = [(gb_train_cm[i,j]) for i in range(len(gb_train_cm)) for j in range(len(gb_train_cm))]\n",
    "train_p = gb_train_cm[1,0] + gb_train_cm[1,1]\n",
    "train_n = gb_train_cm[0,0] + gb_train_cm[0,1]\n",
    "\n",
    "\n",
    "#Store the predicted output of the validation feature set in variable 'y_valid_pred'\n",
    "y_valid_pred = gb_valid.predict(X_valid_tf)\n",
    "gb_valid_cm = confusion_matrix(y_valid,y_valid_pred)                #Create confusion  matrix on validation data\n",
    "\n",
    "valid_tn,valid_fp,valid_fn,valid_tp = [(gb_valid_cm[i,j]) for i in range(len(gb_valid_cm)) for j in range(len(gb_valid_cm))]\n",
    "valid_p = gb_valid_cm[1,0] + gb_valid_cm[1,1]\n",
    "valid_n = gb_valid_cm[0,0] + gb_valid_cm[0,1]\n",
    "\n",
    "print('Gradient Boosting MODEL-')\n",
    "print(\"\\n\")\n",
    "print('Training Dataset:')\n",
    "\n",
    "gb_train_acc, gb_train_recall, gb_train_precision, gb_train_f1_measure, \\\n",
    "    gb_train_sensitivity, gb_train_specificity, gb_train_mcc = print_report(train_tn,train_fp,train_fn,train_tp,train_p,train_n)\n",
    "cm_results(conf_matrix_model_GB[0], gb_train_cm, y_train, y_train_pred)\n",
    "\n",
    "print(\"\\n\\n\")\n",
    "print('Validation Dataset:')\n",
    "gb_valid_acc, gb_valid_recall, gb_valid_precision, gb_valid_f1_measure, \\\n",
    "    gb_valid_sensitivity, gb_valid_specificity, gb_valid_mcc = print_report(valid_tn,valid_fp,valid_fn,valid_tp,valid_p,valid_n)\n",
    "cm_results(conf_matrix_model_GB[1], gb_valid_cm, y_valid, y_valid_pred)"
   ]
  },
  {
   "cell_type": "markdown",
   "metadata": {},
   "source": [
    "### Decision Tree Model"
   ]
  },
  {
   "cell_type": "code",
   "execution_count": 39,
   "metadata": {},
   "outputs": [
    {
     "name": "stdout",
     "output_type": "stream",
     "text": [
      "DECISION TREE MODEL-\n",
      "\n",
      "\n",
      "Training Dataset:\n",
      "Accuracy:97.746 %\n",
      "Precision:0.997\n",
      "Recall:0.958\n",
      "F1-score:0.977\n",
      "Sensitivity:0.958\n",
      "Specificity:0.997\n",
      "Matthews correlation coefficient:0.956\n"
     ]
    },
    {
     "data": {
      "image/png": "[encoded data removed]",
      "text/plain": [
       "<Figure size 504x504 with 2 Axes>"
      ]
     },
     "metadata": {
      "needs_background": "light"
     },
     "output_type": "display_data"
    },
    {
     "name": "stdout",
     "output_type": "stream",
     "text": [
      "True Negatives:  1570  True Negatives %:  49.84\n",
      "False Positives:  5  False Postitves %:  0.16\n",
      "False Negatives:  66  Flase Negatives %:  2.1\n",
      "True Positives:  1509  True Positives %:  47.9\n",
      "\n",
      "\n",
      "\n",
      "Validation Dataset:\n",
      "Accuracy:99.130 %\n",
      "Precision:1.000\n",
      "Recall:0.959\n",
      "F1-score:0.979\n",
      "Sensitivity:0.959\n",
      "Specificity:1.000\n",
      "Matthews correlation coefficient:0.974\n"
     ]
    },
    {
     "data": {
      "image/png": "[encoded data removed]",
      "text/plain": [
       "<Figure size 504x504 with 2 Axes>"
      ]
     },
     "metadata": {
      "needs_background": "light"
     },
     "output_type": "display_data"
    },
    {
     "name": "stdout",
     "output_type": "stream",
     "text": [
      "True Negatives:  1362  True Negatives %:  78.96\n",
      "False Positives:  0  False Postitves %:  0.0\n",
      "False Negatives:  15  Flase Negatives %:  0.87\n",
      "True Positives:  348  True Positives %:  20.17\n"
     ]
    }
   ],
   "source": [
    "import warnings\n",
    "warnings.filterwarnings('ignore')\n",
    "\n",
    "from sklearn.tree import DecisionTreeClassifier                                      #Import the DecisionTree library \n",
    "from sklearn.metrics import confusion_matrix\n",
    "\n",
    "\n",
    "conf_matrix_model_DT= ['DecisionTree_Training','DecisionTree_Validation']\n",
    "\n",
    "dt_train = DecisionTreeClassifier(max_depth = 10, random_state = 69)                 #Create DecisionTree Classifier for training data\n",
    "dt_valid = DecisionTreeClassifier(max_depth = 10, random_state = 69)                 #Create DecisionTree Classifier for validation data\n",
    "dt_train.fit(X_train_tf, y_train)                                                    #Fit classifier to our training sets\n",
    "dt_valid.fit(X_valid_tf, y_valid)                                                    #Fit classifier to our training sets\n",
    "\n",
    "#Store the predicted output of the training feature set in variable 'y_train_pred'\n",
    "y_train_pred = dt_train.predict(X_train_tf)\n",
    "dt_train_cm = confusion_matrix(y_train,y_train_pred)                                 #Create confusion  matrix on training data\n",
    "\n",
    "train_tn,train_fp,train_fn,train_tp = [(dt_train_cm[i,j]) for i in range(len(dt_train_cm)) for j in range(len(dt_train_cm))]\n",
    "train_p = dt_train_cm[1,0] + dt_train_cm[1,1]\n",
    "train_n = dt_train_cm[0,0] + dt_train_cm[0,1]\n",
    "\n",
    "\n",
    "#Store the predicted output of the validation feature set in variable 'y_valid_pred'\n",
    "y_valid_pred = dt_valid.predict(X_valid_tf)\n",
    "dt_valid_cm = confusion_matrix(y_valid,y_valid_pred)                                  #Create confusion  matrix on validation data\n",
    "\n",
    "valid_tn,valid_fp,valid_fn,valid_tp = [(dt_valid_cm[i,j]) for i in range(len(dt_valid_cm)) for j in range(len(dt_valid_cm))]\n",
    "valid_p = dt_valid_cm[1,0] + dt_valid_cm[1,1]\n",
    "valid_n = dt_valid_cm[0,0] + dt_valid_cm[0,1]\n",
    "\n",
    "print('DECISION TREE MODEL-')\n",
    "print(\"\\n\")\n",
    "print('Training Dataset:')\n",
    "dt_train_acc, dt_train_recall, dt_train_precision, dt_train_f1_measure, \\\n",
    "    dt_train_sensitivity, dt_train_specificity, dt_train_mcc = print_report(train_tn,train_fp,train_fn,train_tp,train_p,train_n)\n",
    "cm_results(conf_matrix_model_DT[0], dt_train_cm, y_train, y_train_pred)\n",
    "\n",
    "print(\"\\n\\n\")\n",
    "print('Validation Dataset:')\n",
    "dt_valid_acc, dt_valid_recall, dt_valid_precision, dt_valid_f1_measure, \\\n",
    "    dt_valid_sensitivity, dt_valid_specificity, dt_valid_mcc = print_report(valid_tn,valid_fp,valid_fn,valid_tp,valid_p,valid_n)\n",
    "cm_results(conf_matrix_model_DT[1], dt_valid_cm, y_valid, y_valid_pred)"
   ]
  },
  {
   "cell_type": "markdown",
   "metadata": {},
   "source": [
    "# Analyze Models"
   ]
  },
  {
   "cell_type": "code",
   "execution_count": 40,
   "metadata": {},
   "outputs": [],
   "source": [
    "#Let us now create a dataframe which stores all the results of the model and we can compare the results of each model on the basis of every parameter\n",
    "\n",
    "df_results = pd.DataFrame({'classifier':['KNN','KNN','LR','LR','NB','NB','RF','RF','GB','GB','DT','DT'],\n",
    "                           'data set':['train','valid']*6,\n",
    "                           'accuracy':[knn_train_acc,knn_valid_acc,lr_train_acc,lr_valid_acc,nb_train_acc,nb_valid_acc,rf_train_acc,rf_valid_acc,gb_train_acc,gb_valid_acc,dt_train_acc,dt_valid_acc],\n",
    "                           'precision':[knn_train_precision,knn_valid_precision,lr_train_precision,lr_valid_precision,nb_train_precision,nb_valid_precision,rf_train_precision,rf_valid_precision,gb_train_precision,gb_valid_precision,dt_train_precision,dt_valid_precision],\n",
    "                           'recall':[knn_train_recall,knn_valid_recall,lr_train_recall,lr_valid_recall,nb_train_recall,nb_valid_recall,rf_train_recall,rf_valid_recall,gb_train_recall,gb_valid_recall,dt_train_recall,dt_valid_recall],\n",
    "                           'f1-score':[knn_train_f1_measure,knn_valid_f1_measure,lr_train_f1_measure,lr_valid_f1_measure,nb_train_f1_measure,nb_valid_f1_measure,rf_train_f1_measure,rf_valid_f1_measure,gb_train_f1_measure,gb_valid_f1_measure,dt_train_f1_measure,dt_valid_f1_measure],\n",
    "                           'sensitivity':[knn_train_sensitivity,knn_valid_sensitivity,lr_train_sensitivity,lr_valid_sensitivity,nb_train_sensitivity,nb_valid_sensitivity,rf_train_sensitivity,rf_valid_sensitivity,gb_train_sensitivity,gb_valid_sensitivity,dt_train_sensitivity,dt_train_specificity],\n",
    "                           'specificity':[knn_train_specificity,knn_valid_specificity,lr_train_specificity,lr_valid_specificity,nb_train_specificity,nb_valid_specificity,rf_train_specificity,rf_valid_specificity,gb_train_specificity,gb_valid_specificity,dt_train_specificity,dt_valid_specificity],\n",
    "                           'mcc':[knn_train_mcc,knn_valid_mcc,lr_train_mcc,lr_valid_mcc,nb_train_mcc,nb_valid_mcc,rf_train_mcc,rf_valid_mcc,gb_train_mcc,gb_valid_mcc,dt_train_mcc,dt_valid_mcc]})"
   ]
  },
  {
   "cell_type": "code",
   "execution_count": 41,
   "metadata": {},
   "outputs": [],
   "source": [
    "import seaborn as sns\n",
    "import matplotlib.pyplot as plt\n",
    "%matplotlib inline\n",
    "sns.set(style=\"whitegrid\")"
   ]
  },
  {
   "cell_type": "markdown",
   "metadata": {},
   "source": [
    "### Bar Graph"
   ]
  },
  {
   "cell_type": "code",
   "execution_count": 42,
   "metadata": {},
   "outputs": [
    {
     "data": {
      "text/plain": [
       "<matplotlib.legend.Legend at 0x1e0cee28c88>"
      ]
     },
     "execution_count": 42,
     "metadata": {},
     "output_type": "execute_result"
    },
    {
     "data": {
      "image/png": "[encoded data removed]",
      "text/plain": [
       "<Figure size 1152x576 with 1 Axes>"
      ]
     },
     "metadata": {},
     "output_type": "display_data"
    }
   ],
   "source": [
    "#Create a bar graph for training and validation sets of each classifier that compares 'MCC'\n",
    "\n",
    "plt.figure(figsize=(16, 8))\n",
    "ax = sns.barplot(x = 'classifier', y = 'mcc', hue = 'data set', data = df_results)\n",
    "ax.set_xlabel('Classifier', fontsize = 15)\n",
    "ax.set_ylabel('MCC', fontsize = 15)\n",
    "ax.tick_params(labelsize = 15)\n",
    "\n",
    "#Separate legend from graph\n",
    "plt.legend(bbox_to_anchor = (1.05, 1), loc = 2, borderaxespad = 0., fontsize = 15)"
   ]
  },
  {
   "cell_type": "code",
   "execution_count": 43,
   "metadata": {},
   "outputs": [
    {
     "data": {
      "text/plain": [
       "<matplotlib.legend.Legend at 0x1e0cee68f88>"
      ]
     },
     "execution_count": 43,
     "metadata": {},
     "output_type": "execute_result"
    },
    {
     "data": {
      "image/png": "[encoded data removed]",
      "text/plain": [
       "<Figure size 1152x576 with 1 Axes>"
      ]
     },
     "metadata": {},
     "output_type": "display_data"
    }
   ],
   "source": [
    "#Create a bar graph for training and validation sets of each classifier that compares 'Accuracy'\n",
    "\n",
    "plt.figure(figsize=(16, 8))\n",
    "ax = sns.barplot(x = 'classifier', y = 'accuracy', hue = 'data set', data = df_results)\n",
    "ax.set_xlabel('Classifier', fontsize = 15)\n",
    "ax.set_ylabel('Accuracy', fontsize = 15)\n",
    "ax.tick_params(labelsize = 15)\n",
    "\n",
    "#Separate legend from graph\n",
    "plt.legend(bbox_to_anchor = (1.05, 1), loc = 2, borderaxespad = 0., fontsize = 15)"
   ]
  },
  {
   "cell_type": "code",
   "execution_count": 44,
   "metadata": {},
   "outputs": [
    {
     "data": {
      "text/plain": [
       "<matplotlib.legend.Legend at 0x1e0cecd2b08>"
      ]
     },
     "execution_count": 44,
     "metadata": {},
     "output_type": "execute_result"
    },
    {
     "data": {
      "image/png": "[encoded data removed]",
      "text/plain": [
       "<Figure size 1152x576 with 1 Axes>"
      ]
     },
     "metadata": {},
     "output_type": "display_data"
    }
   ],
   "source": [
    "#Create a bar graph for training and validation sets of each classifier that compares 'Recall'\n",
    "\n",
    "plt.figure(figsize=(16, 8))\n",
    "ax = sns.barplot(x = 'classifier', y = 'recall', hue = 'data set', data = df_results)\n",
    "ax.set_xlabel('Classifier', fontsize = 15)\n",
    "ax.set_ylabel('Recall', fontsize = 15)\n",
    "ax.tick_params(labelsize = 15)\n",
    "\n",
    "#Separate legend from graph\n",
    "plt.legend(bbox_to_anchor = (1.05, 1), loc = 2, borderaxespad = 0., fontsize = 15)"
   ]
  },
  {
   "cell_type": "code",
   "execution_count": 45,
   "metadata": {},
   "outputs": [],
   "source": [
    "#Plot learning curves for the best performing model (ie GradientBoosting) and for DecsionTree model to compare the 2 models on basis of Accuracy.\n",
    "\n",
    "import numpy as np\n",
    "from sklearn.model_selection import learning_curve\n",
    "from sklearn.model_selection import ShuffleSplit\n",
    "import matplotlib.pyplot as plt\n",
    "\n",
    "def plot_learning_curve(estimator, title, X, y, ylim=None, cv=None,\n",
    "                        n_jobs=1, train_sizes=np.linspace(.1, 1.0, 5)):\n",
    "    \"\"\"\n",
    "    Parameters\n",
    "    ----------\n",
    "    estimator : object type that implements the \"fit\" and \"predict\" methods\n",
    "    \n",
    "    title : string; Title for the chart.\n",
    "\n",
    "    X : array-like, shape (n_samples, n_features)\n",
    "        Training vector, where n_samples is the number of samples and n_features is the number of features.\n",
    "\n",
    "    y : array-like, shape (n_samples) or (n_samples, n_features), optional\n",
    "        Target relative to X for classification or regression; None for unsupervised learning.\n",
    "\n",
    "    ylim : tuple, shape (ymin, ymax), optional; Defines minimum and maximum yvalues plotted.\n",
    "\n",
    "    cv : int, cross-validation generator or an iterable, optional; Determines the cross-validation splitting strategy.\n",
    "\n",
    "    n_jobs : integer, optional\n",
    "        Number of jobs to run in parallel (default 1).\n",
    "    \"\"\"\n",
    "    \n",
    "    plt.figure(figsize=(16, 8))\n",
    "    plt.title(title)\n",
    "    \n",
    "    if ylim is not None:\n",
    "        plt.ylim(*ylim)\n",
    "    plt.xlabel(\"Training examples\")\n",
    "    plt.ylabel(\"Accuracy\")\n",
    "    \n",
    "    train_sizes, train_scores, test_scores = learning_curve(\n",
    "        estimator, X, y, cv=cv, n_jobs=n_jobs, train_sizes=train_sizes, scoring = 'accuracy')\n",
    "    train_scores_mean = np.mean(train_scores, axis=1)\n",
    "    train_scores_std = np.std(train_scores, axis=1)\n",
    "    test_scores_mean = np.mean(test_scores, axis=1)\n",
    "    test_scores_std = np.std(test_scores, axis=1)\n",
    "    \n",
    "    plt.grid()\n",
    "\n",
    "    plt.fill_between(train_sizes, train_scores_mean - train_scores_std,\n",
    "                     train_scores_mean + train_scores_std, alpha=0.1,\n",
    "                     color=\"r\")\n",
    "    plt.fill_between(train_sizes, test_scores_mean - test_scores_std,\n",
    "                     test_scores_mean + test_scores_std, alpha=0.1, color=\"b\")\n",
    "    plt.plot(train_sizes, train_scores_mean, 'o-', color=\"r\",\n",
    "             label=\"Training score\")\n",
    "    plt.plot(train_sizes, test_scores_mean, 'o-', color=\"b\",\n",
    "             label=\"Cross-validation score\")\n",
    "\n",
    "    plt.legend(loc=\"best\")\n",
    "    return plt"
   ]
  },
  {
   "cell_type": "markdown",
   "metadata": {},
   "source": [
    "### Learning Curves"
   ]
  },
  {
   "cell_type": "code",
   "execution_count": 46,
   "metadata": {},
   "outputs": [
    {
     "data": {
      "image/png": "[encoded data removed]",
      "text/plain": [
       "<Figure size 1152x576 with 1 Axes>"
      ]
     },
     "metadata": {},
     "output_type": "display_data"
    }
   ],
   "source": [
    "#Cross validation with 5 iterations to get smoother mean test and train\n",
    "#Score curves, each time with 20% data randomly selected as a validation set.\n",
    "\n",
    "from sklearn.tree import DecisionTreeClassifier\n",
    "\n",
    "title = 'Accuracy Learning Curve for DecisionTrees'                                   \n",
    "cv = ShuffleSplit(n_splits=5, test_size=0.2, random_state=42)\n",
    "estimator = DecisionTreeClassifier(max_depth = 10, random_state = 69)                                     \n",
    "plot_learning_curve(estimator, title, X_train_tf, y_train, ylim=(0.2, 1.01), cv=cv, n_jobs=4)\n",
    "\n",
    "\n",
    "plt.show()"
   ]
  },
  {
   "cell_type": "code",
   "execution_count": 47,
   "metadata": {},
   "outputs": [
    {
     "data": {
      "image/png": "[encoded data removed]",
      "text/plain": [
       "<Figure size 1152x576 with 1 Axes>"
      ]
     },
     "metadata": {},
     "output_type": "display_data"
    }
   ],
   "source": [
    "#Cross validation with 5 iterations to get smoother mean test and train\n",
    "#Score curves, each time with 20% data randomly selected as a validation set.\n",
    "\n",
    "from sklearn.tree import DecisionTreeClassifier\n",
    "\n",
    "title = 'Accuracy Learning Curve for GradientBoosting'                                   \n",
    "cv = ShuffleSplit(n_splits=5, test_size=0.2, random_state=42)\n",
    "estimator = GradientBoostingClassifier()                                     \n",
    "plot_learning_curve(estimator, title, X_train_tf, y_train, ylim=(0.2, 1.01), cv=cv, n_jobs=4)\n",
    "\n",
    "\n",
    "plt.show()"
   ]
  },
  {
   "cell_type": "markdown",
   "metadata": {},
   "source": [
    "####  We see that Gradient Boosting is our best model, followed by Random Forest and Decision Tree. We will now tune Decision Tree Model and see if we can improve its performance."
   ]
  },
  {
   "cell_type": "markdown",
   "metadata": {},
   "source": [
    "# Hyperparameter Tuning"
   ]
  },
  {
   "cell_type": "code",
   "execution_count": 48,
   "metadata": {},
   "outputs": [
    {
     "name": "stdout",
     "output_type": "stream",
     "text": [
      "Parameters currently in use:\n",
      "\n",
      "{'criterion': 'mse',\n",
      " 'max_depth': None,\n",
      " 'max_features': None,\n",
      " 'max_leaf_nodes': None,\n",
      " 'min_impurity_decrease': 0.0,\n",
      " 'min_impurity_split': None,\n",
      " 'min_samples_leaf': 1,\n",
      " 'min_samples_split': 2,\n",
      " 'min_weight_fraction_leaf': 0.0,\n",
      " 'presort': False,\n",
      " 'random_state': 42,\n",
      " 'splitter': 'best'}\n"
     ]
    }
   ],
   "source": [
    "from sklearn.tree import DecisionTreeRegressor\n",
    "from sklearn.tree import DecisionTreeClassifier \n",
    "from sklearn.model_selection import RandomizedSearchCV \n",
    "  \n",
    "dt = DecisionTreeRegressor(random_state=42)\n",
    "\n",
    "from pprint import pprint\n",
    "# Look at parameters used by our current tree\n",
    "print('Parameters currently in use:\\n')\n",
    "pprint(dt.get_params())"
   ]
  },
  {
   "cell_type": "markdown",
   "metadata": {},
   "source": [
    "### Validation Curves"
   ]
  },
  {
   "cell_type": "code",
   "execution_count": 49,
   "metadata": {},
   "outputs": [
    {
     "data": {
      "text/plain": [
       "Text(0, 0.5, 'Accuracy')"
      ]
     },
     "execution_count": 49,
     "metadata": {},
     "output_type": "execute_result"
    },
    {
     "data": {
      "image/png": "[encoded data removed]",
      "text/plain": [
       "<Figure size 432x288 with 1 Axes>"
      ]
     },
     "metadata": {},
     "output_type": "display_data"
    }
   ],
   "source": [
    "from sklearn.model_selection import validation_curve\n",
    "import matplotlib.pyplot as plt\n",
    "\n",
    "param_range = ['gini','entropy']\n",
    "train_score, test_score = validation_curve(\n",
    "                                DecisionTreeClassifier(),\n",
    "                                X = X_train_tf, y = y_train, \n",
    "                                param_name = 'criterion', \n",
    "                                param_range = param_range, cv = 3)\n",
    "\n",
    "\n",
    "plt.plot(param_range, np.median(train_score, 1), color='blue', label='training score')\n",
    "plt.plot(param_range, np.median(test_score, 1), color='red', label='validation score')\n",
    "plt.legend(loc='best')\n",
    "plt.ylim(0, 1.1)\n",
    "plt.xlabel('Criterion')\n",
    "plt.ylabel('Accuracy')"
   ]
  },
  {
   "cell_type": "code",
   "execution_count": 50,
   "metadata": {},
   "outputs": [
    {
     "data": {
      "text/plain": [
       "Text(0, 0.5, 'Accuracy')"
      ]
     },
     "execution_count": 50,
     "metadata": {},
     "output_type": "execute_result"
    },
    {
     "data": {
      "image/png": "[encoded data removed]",
      "text/plain": [
       "<Figure size 432x288 with 1 Axes>"
      ]
     },
     "metadata": {},
     "output_type": "display_data"
    }
   ],
   "source": [
    "from sklearn.model_selection import validation_curve\n",
    "import matplotlib.pyplot as plt\n",
    "\n",
    "param_range = [4,6,8,10]\n",
    "train_score, test_score = validation_curve(\n",
    "                                DecisionTreeClassifier(),\n",
    "                                X = X_train_tf, y = y_train, \n",
    "                                param_name = 'max_depth', \n",
    "                                param_range = param_range, cv = 3)\n",
    "\n",
    "\n",
    "plt.plot(param_range, np.median(train_score, 1), color='blue', label='training score')\n",
    "plt.plot(param_range, np.median(test_score, 1), color='red', label='validation score')\n",
    "plt.legend(loc='best')\n",
    "plt.ylim(0, 1.1)\n",
    "plt.xlabel('Max_depth values')\n",
    "plt.ylabel('Accuracy')"
   ]
  },
  {
   "cell_type": "code",
   "execution_count": 51,
   "metadata": {},
   "outputs": [
    {
     "data": {
      "text/plain": [
       "Text(0, 0.5, 'Accuracy')"
      ]
     },
     "execution_count": 51,
     "metadata": {},
     "output_type": "execute_result"
    },
    {
     "data": {
      "image/png": "[encoded data removed]",
      "text/plain": [
       "<Figure size 432x288 with 1 Axes>"
      ]
     },
     "metadata": {},
     "output_type": "display_data"
    }
   ],
   "source": [
    "from sklearn.model_selection import validation_curve\n",
    "import matplotlib.pyplot as plt\n",
    "\n",
    "param_range = ['auto','sqrt','log2']\n",
    "train_score, test_score = validation_curve(\n",
    "                                DecisionTreeClassifier(),\n",
    "                                X = X_train_tf, y = y_train, \n",
    "                                param_name = 'max_features', \n",
    "                                param_range = param_range, cv = 3)\n",
    "\n",
    "\n",
    "plt.plot(param_range, np.median(train_score, 1), color='blue', label='training score')\n",
    "plt.plot(param_range, np.median(test_score, 1), color='red', label='validation score')\n",
    "plt.legend(loc='best')\n",
    "plt.ylim(0, 1.1)\n",
    "plt.xlabel('Max_features Parameter')\n",
    "plt.ylabel('Accuracy')"
   ]
  },
  {
   "cell_type": "code",
   "execution_count": 52,
   "metadata": {},
   "outputs": [
    {
     "data": {
      "text/plain": [
       "Text(0, 0.5, 'Accuracy')"
      ]
     },
     "execution_count": 52,
     "metadata": {},
     "output_type": "execute_result"
    },
    {
     "data": {
      "image/png": "[encoded data removed]",
      "text/plain": [
       "<Figure size 432x288 with 1 Axes>"
      ]
     },
     "metadata": {},
     "output_type": "display_data"
    }
   ],
   "source": [
    "from sklearn.model_selection import validation_curve\n",
    "import matplotlib.pyplot as plt\n",
    "\n",
    "param_range = [2,20]\n",
    "train_score, test_score = validation_curve(\n",
    "                                DecisionTreeClassifier(),\n",
    "                                X = X_train_tf, y = y_train, \n",
    "                                param_name = 'min_samples_split', \n",
    "                                param_range = param_range, cv = 3)\n",
    "\n",
    "\n",
    "plt.plot(param_range, np.median(train_score, 1), color='blue', label='training score')\n",
    "plt.plot(param_range, np.median(test_score, 1), color='red', label='validation score')\n",
    "plt.legend(loc='best')\n",
    "plt.ylim(0, 1.1)\n",
    "plt.xlabel('Min_samples_split Values')\n",
    "plt.ylabel('Accuracy')"
   ]
  },
  {
   "cell_type": "code",
   "execution_count": 53,
   "metadata": {},
   "outputs": [
    {
     "data": {
      "text/plain": [
       "Text(0, 0.5, 'Accuracy')"
      ]
     },
     "execution_count": 53,
     "metadata": {},
     "output_type": "execute_result"
    },
    {
     "data": {
      "image/png": "[encoded data removed]",
      "text/plain": [
       "<Figure size 432x288 with 1 Axes>"
      ]
     },
     "metadata": {},
     "output_type": "display_data"
    }
   ],
   "source": [
    "from sklearn.model_selection import validation_curve\n",
    "import matplotlib.pyplot as plt\n",
    "\n",
    "param_range = [1,20]\n",
    "train_score, test_score = validation_curve(\n",
    "                                DecisionTreeClassifier(),\n",
    "                                X = X_train_tf, y = y_train, \n",
    "                                param_name = 'min_samples_leaf', \n",
    "                                param_range = param_range, cv = 3)\n",
    "\n",
    "\n",
    "plt.plot(param_range, np.median(train_score, 1), color='blue', label='training score')\n",
    "plt.plot(param_range, np.median(test_score, 1), color='red', label='validation score')\n",
    "plt.legend(loc='best')\n",
    "plt.ylim(0, 1.1)\n",
    "plt.xlabel('Min_samples_leaf Values')\n",
    "plt.ylabel('Accuracy')"
   ]
  },
  {
   "cell_type": "markdown",
   "metadata": {},
   "source": [
    "### RandomSearch"
   ]
  },
  {
   "cell_type": "code",
   "execution_count": 54,
   "metadata": {},
   "outputs": [
    {
     "name": "stdout",
     "output_type": "stream",
     "text": [
      "Tuned Decision Tree Parameters: {'splitter': 'best', 'min_samples_split': 2, 'min_samples_leaf': 1, 'max_features': 15, 'max_depth': 15, 'criterion': 'entropy'}\n",
      "Best score is 0.9012698412698412\n"
     ]
    }
   ],
   "source": [
    "from sklearn.tree import DecisionTreeClassifier \n",
    "from sklearn.model_selection import RandomizedSearchCV \n",
    "  \n",
    "# Creating the hyperparameter grid  \n",
    "param_dist = {\"max_depth\": [1,15], \n",
    "              \"max_features\": [1,15], \n",
    "              'min_samples_split': [2,40], \n",
    "              \"min_samples_leaf\": [1,20],\n",
    "              'splitter': ['best','random'],\n",
    "              \"criterion\": [\"gini\", \"entropy\"]} \n",
    "  \n",
    "# Instantiating Decision Tree classifier \n",
    "tree = DecisionTreeClassifier() \n",
    "  \n",
    "# Instantiating RandomizedSearchCV object \n",
    "tree_cv = RandomizedSearchCV(tree, param_dist, n_iter=40, cv = 5, scoring=\"accuracy\", random_state=42, n_jobs=-1, return_train_score=True) \n",
    "  \n",
    "tree_cv.fit(X_train_tf, y_train) \n",
    "  \n",
    "# Print the tuned parameters and score \n",
    "print(\"Tuned Decision Tree Parameters: {}\".format(tree_cv.best_params_)) \n",
    "print(\"Best score is {}\".format(tree_cv.best_score_)) "
   ]
  },
  {
   "cell_type": "code",
   "execution_count": 55,
   "metadata": {},
   "outputs": [
    {
     "name": "stdout",
     "output_type": "stream",
     "text": [
      "Tuned Decision Tree Parameters: {'splitter': 'best', 'min_samples_split': 40, 'min_samples_leaf': 1, 'max_features': 15, 'max_depth': 15, 'criterion': 'gini'}\n",
      "Best score is 0.9310144927536231\n"
     ]
    }
   ],
   "source": [
    "from sklearn.tree import DecisionTreeClassifier \n",
    "from sklearn.model_selection import RandomizedSearchCV \n",
    "  \n",
    "# Creating the hyperparameter grid  \n",
    "param_dist = {\"max_depth\": [1,15], \n",
    "              \"max_features\": [1,15], \n",
    "              'min_samples_split': [2,40], \n",
    "              \"min_samples_leaf\": [1,20],\n",
    "              'splitter': ['best','random'],\n",
    "              \"criterion\": [\"gini\", \"entropy\"]} \n",
    "  \n",
    "# Instantiating Decision Tree classifier \n",
    "tree = DecisionTreeClassifier() \n",
    "  \n",
    "# Instantiating RandomizedSearchCV object \n",
    "tree_cv = RandomizedSearchCV(tree, param_dist, n_iter=40, cv = 5, scoring=\"accuracy\", random_state=42, n_jobs=-1, return_train_score=True) \n",
    "  \n",
    "tree_cv.fit(X_valid_tf, y_valid) \n",
    "  \n",
    "# Print the tuned parameters and score \n",
    "print(\"Tuned Decision Tree Parameters: {}\".format(tree_cv.best_params_)) \n",
    "print(\"Best score is {}\".format(tree_cv.best_score_)) "
   ]
  },
  {
   "cell_type": "code",
   "execution_count": 56,
   "metadata": {},
   "outputs": [
    {
     "name": "stdout",
     "output_type": "stream",
     "text": [
      "97.74603174603175 99.1304347826087\n"
     ]
    }
   ],
   "source": [
    "print(dt_train_acc,dt_valid_acc)"
   ]
  },
  {
   "cell_type": "code",
   "execution_count": 57,
   "metadata": {},
   "outputs": [
    {
     "name": "stdout",
     "output_type": "stream",
     "text": [
      "0.955637644176434 0.9737733688610626\n"
     ]
    }
   ],
   "source": [
    "print(dt_train_mcc,dt_valid_mcc)"
   ]
  },
  {
   "cell_type": "code",
   "execution_count": 58,
   "metadata": {},
   "outputs": [],
   "source": [
    "def print_report2(tn,fp,fn,tp,p,n):\n",
    "    import math\n",
    "    accuracy = ((tp + tn)/(tp + tn + fp + fn))*100\n",
    "    mcc = ((tp*tn)-(fp*fn))/math.sqrt((tp+fp)*(tp+fn)*(tn+fp)*(tn+fn))\n",
    "    return accuracy, mcc"
   ]
  },
  {
   "cell_type": "code",
   "execution_count": 59,
   "metadata": {},
   "outputs": [
    {
     "name": "stdout",
     "output_type": "stream",
     "text": [
      "89.65079365079364 0.7946841180940306\n"
     ]
    }
   ],
   "source": [
    "y_train_pred2 = tree_cv.predict(X_train_tf)\n",
    "tree_cv_cm_train = confusion_matrix(y_train,y_train_pred2)                                 #Create confusion  matrix on training data\n",
    "\n",
    "train_tn,train_fp,train_fn,train_tp = [(tree_cv_cm_train[i,j]) for i in range(len(tree_cv_cm_train)) for j in range(len(tree_cv_cm_train))]\n",
    "train_p = tree_cv_cm_train[1,0] + tree_cv_cm_train[1,1]\n",
    "train_n = tree_cv_cm_train[0,0] + tree_cv_cm_train[0,1]\n",
    "\n",
    "acc,mcc = print_report2(train_tn,train_fp,train_fn,train_tp,train_p,train_n)\n",
    "print(acc,mcc)"
   ]
  },
  {
   "cell_type": "code",
   "execution_count": 60,
   "metadata": {},
   "outputs": [
    {
     "name": "stdout",
     "output_type": "stream",
     "text": [
      "95.76811594202898 0.8777251831952186\n"
     ]
    }
   ],
   "source": [
    "y_valid_pred2 = tree_cv.predict(X_valid_tf)\n",
    "tree_cv_cm_valid = confusion_matrix(y_valid,y_valid_pred2)                                 #Create confusion  matrix on training data\n",
    "\n",
    "valid_tn,valid_fp,valid_fn,valid_tp = [(tree_cv_cm_valid[i,j]) for i in range(len(tree_cv_cm_valid)) for j in range(len(tree_cv_cm_valid))]\n",
    "valid_p = tree_cv_cm_valid[1,0] + tree_cv_cm_valid[1,1]\n",
    "valid_n = tree_cv_cm_valid[0,0] + tree_cv_cm_valid[0,1]\n",
    "\n",
    "acc,mcc = print_report2(valid_tn,valid_fp,valid_fn,valid_tp,valid_p,valid_n)\n",
    "print(acc,mcc)"
   ]
  },
  {
   "cell_type": "markdown",
   "metadata": {},
   "source": [
    "#### We see that after hypertuning the Decision Tree Model, the accuracy and value of Matthew's Correlation Coefficient goes down for the testing data. We will now proceed to use our best model (ie GradientBoosting) on the test data."
   ]
  },
  {
   "cell_type": "markdown",
   "metadata": {},
   "source": [
    "# Model Testing & Evaluation "
   ]
  },
  {
   "cell_type": "code",
   "execution_count": 61,
   "metadata": {},
   "outputs": [
    {
     "name": "stdout",
     "output_type": "stream",
     "text": [
      "BEST MODEL-\n",
      "\n",
      "\n",
      "Training Dataset:\n",
      "Accuracy:99.238 %\n",
      "Precision:0.995\n",
      "Recall:0.990\n",
      "F1-score:0.992\n",
      "Sensitivity:0.990\n",
      "Specificity:0.995\n",
      "Matthews correlation coefficient:0.985\n",
      "\n",
      "\n",
      "\n",
      "Validation Dataset:\n",
      "Accuracy:100.000 %\n",
      "Precision:1.000\n",
      "Recall:1.000\n",
      "F1-score:1.000\n",
      "Sensitivity:1.000\n",
      "Specificity:1.000\n",
      "Matthews correlation coefficient:1.000\n"
     ]
    }
   ],
   "source": [
    "import warnings\n",
    "warnings.filterwarnings('ignore')\n",
    "\n",
    "from sklearn.ensemble import GradientBoostingClassifier                     #Import the Gradient Booster library \n",
    "from sklearn.metrics import confusion_matrix\n",
    "\n",
    "\n",
    "best_model_train = GradientBoostingClassifier()                             #Create Gradient Booster Classifier for training data\n",
    "best_model_valid = GradientBoostingClassifier()                             #Create Gradient Booster Classifier for validation data\n",
    "best_model_train.fit(X_train_tf, y_train)                                   #Fit classifier to our training sets\n",
    "best_model_valid.fit(X_valid_tf, y_valid)                                   #Fit classifier to our training sets\n",
    "\n",
    "#Store the predicted output of the training feature set in variable 'y_train_pred'\n",
    "y_train_pred = best_model_train.predict(X_train_tf)\n",
    "best_model_train_cm = confusion_matrix(y_train,y_train_pred)                #Create confusion  matrix on training data\n",
    "\n",
    "train_tn,train_fp,train_fn,train_tp = [(best_model_train_cm[i,j]) for i in range(len(best_model_train_cm)) for j in range(len(best_model_train_cm))]\n",
    "train_p = best_model_train_cm[1,0] + best_model_train_cm[1,1]\n",
    "train_n = best_model_train_cm[0,0] + best_model_train_cm[0,1]\n",
    "\n",
    "\n",
    "#Store the predicted output of the validation feature set in variable 'y_valid_pred'\n",
    "y_valid_pred = best_model_valid.predict(X_valid_tf)\n",
    "best_model_valid_cm = confusion_matrix(y_valid,y_valid_pred)                #Create confusion  matrix on validation data\n",
    "\n",
    "valid_tn,valid_fp,valid_fn,valid_tp = [(best_model_valid_cm[i,j]) for i in range(len(best_model_valid_cm)) for j in range(len(best_model_valid_cm))]\n",
    "valid_p = best_model_valid_cm[1,0] + best_model_valid_cm[1,1]\n",
    "valid_n = best_model_valid_cm[0,0] + best_model_valid_cm[0,1]\n",
    "\n",
    "print('BEST MODEL-')\n",
    "print(\"\\n\")\n",
    "print('Training Dataset:')\n",
    "gb_train_acc, gb_train_recall, gb_train_precision, gb_train_f1_measure, \\\n",
    "    gb_train_sensitivity, gb_train_specificity, gb_train_mcc = print_report(train_tn,train_fp,train_fn,train_tp,train_p,train_n)\n",
    "\n",
    "print(\"\\n\\n\")\n",
    "print('Validation Dataset:')\n",
    "gb_valid_acc, gb_valid_recall, gb_valid_precision, gb_valid_f1_measure, \\\n",
    "    gb_valid_sensitivity, gb_valid_specificity, gb_valid_mcc = print_report(valid_tn,valid_fp,valid_fn,valid_tp,valid_p,valid_n)"
   ]
  },
  {
   "cell_type": "code",
   "execution_count": 62,
   "metadata": {},
   "outputs": [
    {
     "name": "stdout",
     "output_type": "stream",
     "text": [
      "Testing Dataset:\n",
      "Accuracy:99.942 %\n",
      "Precision:1.000\n",
      "Recall:0.997\n",
      "F1-score:0.999\n",
      "Sensitivity:0.997\n",
      "Specificity:1.000\n",
      "Matthews correlation coefficient:0.998\n"
     ]
    },
    {
     "data": {
      "image/png": "[encoded data removed]",
      "text/plain": [
       "<Figure size 504x504 with 2 Axes>"
      ]
     },
     "metadata": {},
     "output_type": "display_data"
    },
    {
     "name": "stdout",
     "output_type": "stream",
     "text": [
      "True Negatives:  1362  True Negatives %:  78.91\n",
      "False Positives:  0  False Postitves %:  0.0\n",
      "False Negatives:  1  Flase Negatives %:  0.06\n",
      "True Positives:  363  True Positives %:  21.03\n"
     ]
    }
   ],
   "source": [
    "gb_test = GradientBoostingClassifier()                           #Create Gradient Booster Classifier for testing data\n",
    "gb_test.fit(X_test_tf, y_test)                                   #Fit classifier to our training sets\n",
    "\n",
    "#Store the predicted output of the training feature set in variable 'y_test_pred'\n",
    "y_test_pred = gb_test.predict(X_test_tf)\n",
    "gb_test_cm = confusion_matrix(y_test,y_test_pred)                #Create confusion  matrix on training data\n",
    "\n",
    "test_tn,test_fp,test_fn,test_tp = [(gb_test_cm[i,j]) for i in range(len(gb_test_cm)) for j in range(len(gb_test_cm))]\n",
    "test_p = gb_test_cm[1,0] + gb_test_cm[1,1]\n",
    "test_n = gb_test_cm[0,0] + gb_test_cm[0,1]\n",
    "\n",
    "print('Testing Dataset:')\n",
    "\n",
    "gb_test_acc, gb_test_recall, gb_test_precision, gb_test_f1_measure, \\\n",
    "    gb_test_sensitivity, gb_test_specificity, gb_test_mcc = print_report(test_tn,test_fp,test_fn,test_tp,test_p,test_n)\n",
    "cm_results('GradientBoosting_Testing', gb_test_cm, y_test, y_test_pred)\n"
   ]
  },
  {
   "cell_type": "markdown",
   "metadata": {},
   "source": [
    "### ROC_Curve\n"
   ]
  },
  {
   "cell_type": "code",
   "execution_count": 63,
   "metadata": {},
   "outputs": [
    {
     "data": {
      "image/png": "[encoded data removed]",
      "text/plain": [
       "<Figure size 1152x720 with 1 Axes>"
      ]
     },
     "metadata": {},
     "output_type": "display_data"
    }
   ],
   "source": [
    "from sklearn.metrics import roc_curve \n",
    "from sklearn.metrics import roc_auc_score\n",
    "\n",
    "fpr_train, tpr_train, thresholds_train = roc_curve(y_train, y_train_pred)\n",
    "auc_train = roc_auc_score(y_train, y_train_pred)\n",
    "\n",
    "fpr_valid, tpr_valid, thresholds_valid = roc_curve(y_valid, y_valid_pred)\n",
    "auc_valid = roc_auc_score(y_valid, y_valid_pred)\n",
    "\n",
    "fpr_test, tpr_test, thresholds_test = roc_curve(y_test, y_test_pred)\n",
    "auc_test = roc_auc_score(y_test, y_test_pred)\n",
    "\n",
    "plt.figure(figsize=(16,10))\n",
    "plt.plot(fpr_train, tpr_train, 'r-',label ='Train AUC:%.3f'%auc_train)\n",
    "plt.plot(fpr_valid, tpr_valid, 'b-',label ='Valid AUC:%.3f'%auc_valid)\n",
    "plt.plot(fpr_test, tpr_test, 'g-',label ='Test AUC:%.3f'%auc_test)\n",
    "plt.plot([0,1],[0,1],'k--')\n",
    "plt.xlabel('False Positive Rate')\n",
    "plt.ylabel('True Positive Rate')\n",
    "plt.legend()\n",
    "plt.show()"
   ]
  },
  {
   "cell_type": "code",
   "execution_count": null,
   "metadata": {},
   "outputs": [],
   "source": []
  }
 ],
 "metadata": {
  "kernelspec": {
   "display_name": "Python 3",
   "language": "python",
   "name": "python3"
  },
  "language_info": {
   "codemirror_mode": {
    "name": "ipython",
    "version": 3
   },
   "file_extension": ".py",
   "mimetype": "text/x-python",
   "name": "python",
   "nbconvert_exporter": "python",
   "pygments_lexer": "ipython3",
   "version": "3.7.4"
  }
 },
 "nbformat": 4,
 "nbformat_minor": 2
}
